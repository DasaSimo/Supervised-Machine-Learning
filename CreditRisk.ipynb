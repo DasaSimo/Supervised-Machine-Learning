{
 "cells": [
  {
   "cell_type": "code",
   "execution_count": 1,
   "id": "75a02604",
   "metadata": {},
   "outputs": [],
   "source": [
    "import numpy as np\n",
    "import pandas as pd\n",
    "import matplotlib.pyplot as plt\n",
    "import seaborn as sns\n",
    "%matplotlib inline\n",
    "from pathlib import Path\n",
    "from collections import Counter\n",
    "from sklearn.preprocessing import StandardScaler, MinMaxScaler, LabelEncoder\n",
    "from sklearn.linear_model import LogisticRegression\n",
    "from sklearn.ensemble import RandomForestClassifier\n",
    "from sklearn.model_selection import train_test_split\n",
    "from sklearn.preprocessing import StandardScaler\n",
    "from sklearn.metrics import confusion_matrix, classification_report, auc"
   ]
  },
  {
   "cell_type": "code",
   "execution_count": 2,
   "id": "3f7c5f84",
   "metadata": {
    "scrolled": false
   },
   "outputs": [
    {
     "data": {
      "text/html": [
       "<div>\n",
       "<style scoped>\n",
       "    .dataframe tbody tr th:only-of-type {\n",
       "        vertical-align: middle;\n",
       "    }\n",
       "\n",
       "    .dataframe tbody tr th {\n",
       "        vertical-align: top;\n",
       "    }\n",
       "\n",
       "    .dataframe thead th {\n",
       "        text-align: right;\n",
       "    }\n",
       "</style>\n",
       "<table border=\"1\" class=\"dataframe\">\n",
       "  <thead>\n",
       "    <tr style=\"text-align: right;\">\n",
       "      <th></th>\n",
       "      <th>loan_amnt</th>\n",
       "      <th>int_rate</th>\n",
       "      <th>installment</th>\n",
       "      <th>home_ownership</th>\n",
       "      <th>annual_inc</th>\n",
       "      <th>verification_status</th>\n",
       "      <th>pymnt_plan</th>\n",
       "      <th>dti</th>\n",
       "      <th>delinq_2yrs</th>\n",
       "      <th>inq_last_6mths</th>\n",
       "      <th>...</th>\n",
       "      <th>percent_bc_gt_75</th>\n",
       "      <th>pub_rec_bankruptcies</th>\n",
       "      <th>tax_liens</th>\n",
       "      <th>tot_hi_cred_lim</th>\n",
       "      <th>total_bal_ex_mort</th>\n",
       "      <th>total_bc_limit</th>\n",
       "      <th>total_il_high_credit_limit</th>\n",
       "      <th>hardship_flag</th>\n",
       "      <th>debt_settlement_flag</th>\n",
       "      <th>target</th>\n",
       "    </tr>\n",
       "  </thead>\n",
       "  <tbody>\n",
       "    <tr>\n",
       "      <th>0</th>\n",
       "      <td>7000.0</td>\n",
       "      <td>0.1894</td>\n",
       "      <td>256.38</td>\n",
       "      <td>MORTGAGE</td>\n",
       "      <td>75000.0</td>\n",
       "      <td>Not Verified</td>\n",
       "      <td>n</td>\n",
       "      <td>28.62</td>\n",
       "      <td>0.0</td>\n",
       "      <td>2.0</td>\n",
       "      <td>...</td>\n",
       "      <td>87.5</td>\n",
       "      <td>0.0</td>\n",
       "      <td>0.0</td>\n",
       "      <td>352260.0</td>\n",
       "      <td>62666.0</td>\n",
       "      <td>35000.0</td>\n",
       "      <td>10000.0</td>\n",
       "      <td>N</td>\n",
       "      <td>N</td>\n",
       "      <td>low_risk</td>\n",
       "    </tr>\n",
       "    <tr>\n",
       "      <th>1</th>\n",
       "      <td>40000.0</td>\n",
       "      <td>0.1614</td>\n",
       "      <td>975.71</td>\n",
       "      <td>MORTGAGE</td>\n",
       "      <td>102000.0</td>\n",
       "      <td>Source Verified</td>\n",
       "      <td>n</td>\n",
       "      <td>11.72</td>\n",
       "      <td>2.0</td>\n",
       "      <td>0.0</td>\n",
       "      <td>...</td>\n",
       "      <td>0.0</td>\n",
       "      <td>0.0</td>\n",
       "      <td>0.0</td>\n",
       "      <td>294664.0</td>\n",
       "      <td>109911.0</td>\n",
       "      <td>9000.0</td>\n",
       "      <td>71044.0</td>\n",
       "      <td>N</td>\n",
       "      <td>N</td>\n",
       "      <td>low_risk</td>\n",
       "    </tr>\n",
       "    <tr>\n",
       "      <th>2</th>\n",
       "      <td>11000.0</td>\n",
       "      <td>0.2055</td>\n",
       "      <td>294.81</td>\n",
       "      <td>RENT</td>\n",
       "      <td>45000.0</td>\n",
       "      <td>Verified</td>\n",
       "      <td>n</td>\n",
       "      <td>37.25</td>\n",
       "      <td>1.0</td>\n",
       "      <td>3.0</td>\n",
       "      <td>...</td>\n",
       "      <td>7.7</td>\n",
       "      <td>0.0</td>\n",
       "      <td>0.0</td>\n",
       "      <td>92228.0</td>\n",
       "      <td>36007.0</td>\n",
       "      <td>33000.0</td>\n",
       "      <td>46328.0</td>\n",
       "      <td>N</td>\n",
       "      <td>N</td>\n",
       "      <td>low_risk</td>\n",
       "    </tr>\n",
       "    <tr>\n",
       "      <th>3</th>\n",
       "      <td>4000.0</td>\n",
       "      <td>0.1612</td>\n",
       "      <td>140.87</td>\n",
       "      <td>MORTGAGE</td>\n",
       "      <td>38000.0</td>\n",
       "      <td>Not Verified</td>\n",
       "      <td>n</td>\n",
       "      <td>42.89</td>\n",
       "      <td>1.0</td>\n",
       "      <td>0.0</td>\n",
       "      <td>...</td>\n",
       "      <td>100.0</td>\n",
       "      <td>0.0</td>\n",
       "      <td>0.0</td>\n",
       "      <td>284273.0</td>\n",
       "      <td>52236.0</td>\n",
       "      <td>13500.0</td>\n",
       "      <td>52017.0</td>\n",
       "      <td>N</td>\n",
       "      <td>N</td>\n",
       "      <td>low_risk</td>\n",
       "    </tr>\n",
       "    <tr>\n",
       "      <th>4</th>\n",
       "      <td>14000.0</td>\n",
       "      <td>0.1797</td>\n",
       "      <td>505.93</td>\n",
       "      <td>MORTGAGE</td>\n",
       "      <td>43000.0</td>\n",
       "      <td>Source Verified</td>\n",
       "      <td>n</td>\n",
       "      <td>22.16</td>\n",
       "      <td>1.0</td>\n",
       "      <td>0.0</td>\n",
       "      <td>...</td>\n",
       "      <td>25.0</td>\n",
       "      <td>0.0</td>\n",
       "      <td>0.0</td>\n",
       "      <td>120280.0</td>\n",
       "      <td>88147.0</td>\n",
       "      <td>33300.0</td>\n",
       "      <td>78680.0</td>\n",
       "      <td>N</td>\n",
       "      <td>N</td>\n",
       "      <td>low_risk</td>\n",
       "    </tr>\n",
       "  </tbody>\n",
       "</table>\n",
       "<p>5 rows × 84 columns</p>\n",
       "</div>"
      ],
      "text/plain": [
       "   loan_amnt  int_rate  installment home_ownership  annual_inc  \\\n",
       "0     7000.0    0.1894       256.38       MORTGAGE     75000.0   \n",
       "1    40000.0    0.1614       975.71       MORTGAGE    102000.0   \n",
       "2    11000.0    0.2055       294.81           RENT     45000.0   \n",
       "3     4000.0    0.1612       140.87       MORTGAGE     38000.0   \n",
       "4    14000.0    0.1797       505.93       MORTGAGE     43000.0   \n",
       "\n",
       "  verification_status pymnt_plan    dti  delinq_2yrs  inq_last_6mths  ...  \\\n",
       "0        Not Verified          n  28.62          0.0             2.0  ...   \n",
       "1     Source Verified          n  11.72          2.0             0.0  ...   \n",
       "2            Verified          n  37.25          1.0             3.0  ...   \n",
       "3        Not Verified          n  42.89          1.0             0.0  ...   \n",
       "4     Source Verified          n  22.16          1.0             0.0  ...   \n",
       "\n",
       "   percent_bc_gt_75  pub_rec_bankruptcies  tax_liens  tot_hi_cred_lim  \\\n",
       "0              87.5                   0.0        0.0         352260.0   \n",
       "1               0.0                   0.0        0.0         294664.0   \n",
       "2               7.7                   0.0        0.0          92228.0   \n",
       "3             100.0                   0.0        0.0         284273.0   \n",
       "4              25.0                   0.0        0.0         120280.0   \n",
       "\n",
       "  total_bal_ex_mort  total_bc_limit  total_il_high_credit_limit  \\\n",
       "0           62666.0         35000.0                     10000.0   \n",
       "1          109911.0          9000.0                     71044.0   \n",
       "2           36007.0         33000.0                     46328.0   \n",
       "3           52236.0         13500.0                     52017.0   \n",
       "4           88147.0         33300.0                     78680.0   \n",
       "\n",
       "   hardship_flag  debt_settlement_flag    target  \n",
       "0              N                     N  low_risk  \n",
       "1              N                     N  low_risk  \n",
       "2              N                     N  low_risk  \n",
       "3              N                     N  low_risk  \n",
       "4              N                     N  low_risk  \n",
       "\n",
       "[5 rows x 84 columns]"
      ]
     },
     "execution_count": 2,
     "metadata": {},
     "output_type": "execute_result"
    }
   ],
   "source": [
    "df = pd.read_csv('Generator/2019loans.csv')\n",
    "df.head()\n"
   ]
  },
  {
   "cell_type": "code",
   "execution_count": 3,
   "id": "98242c43",
   "metadata": {},
   "outputs": [],
   "source": [
    "#display(list(df.columns.values))"
   ]
  },
  {
   "cell_type": "code",
   "execution_count": 4,
   "id": "5af23864",
   "metadata": {
    "scrolled": true
   },
   "outputs": [
    {
     "data": {
      "text/html": [
       "<div>\n",
       "<style scoped>\n",
       "    .dataframe tbody tr th:only-of-type {\n",
       "        vertical-align: middle;\n",
       "    }\n",
       "\n",
       "    .dataframe tbody tr th {\n",
       "        vertical-align: top;\n",
       "    }\n",
       "\n",
       "    .dataframe thead th {\n",
       "        text-align: right;\n",
       "    }\n",
       "</style>\n",
       "<table border=\"1\" class=\"dataframe\">\n",
       "  <thead>\n",
       "    <tr style=\"text-align: right;\">\n",
       "      <th></th>\n",
       "      <th>loan_amnt</th>\n",
       "      <th>int_rate</th>\n",
       "      <th>installment</th>\n",
       "      <th>home_ownership</th>\n",
       "      <th>annual_inc</th>\n",
       "      <th>verification_status</th>\n",
       "      <th>pymnt_plan</th>\n",
       "      <th>dti</th>\n",
       "      <th>delinq_2yrs</th>\n",
       "      <th>inq_last_6mths</th>\n",
       "      <th>...</th>\n",
       "      <th>pct_tl_nvr_dlq</th>\n",
       "      <th>percent_bc_gt_75</th>\n",
       "      <th>pub_rec_bankruptcies</th>\n",
       "      <th>tax_liens</th>\n",
       "      <th>tot_hi_cred_lim</th>\n",
       "      <th>total_bal_ex_mort</th>\n",
       "      <th>total_bc_limit</th>\n",
       "      <th>total_il_high_credit_limit</th>\n",
       "      <th>hardship_flag</th>\n",
       "      <th>debt_settlement_flag</th>\n",
       "    </tr>\n",
       "  </thead>\n",
       "  <tbody>\n",
       "    <tr>\n",
       "      <th>0</th>\n",
       "      <td>7000.0</td>\n",
       "      <td>0.1894</td>\n",
       "      <td>256.38</td>\n",
       "      <td>MORTGAGE</td>\n",
       "      <td>75000.0</td>\n",
       "      <td>Not Verified</td>\n",
       "      <td>n</td>\n",
       "      <td>28.62</td>\n",
       "      <td>0.0</td>\n",
       "      <td>2.0</td>\n",
       "      <td>...</td>\n",
       "      <td>100.0</td>\n",
       "      <td>87.5</td>\n",
       "      <td>0.0</td>\n",
       "      <td>0.0</td>\n",
       "      <td>352260.0</td>\n",
       "      <td>62666.0</td>\n",
       "      <td>35000.0</td>\n",
       "      <td>10000.0</td>\n",
       "      <td>N</td>\n",
       "      <td>N</td>\n",
       "    </tr>\n",
       "    <tr>\n",
       "      <th>1</th>\n",
       "      <td>40000.0</td>\n",
       "      <td>0.1614</td>\n",
       "      <td>975.71</td>\n",
       "      <td>MORTGAGE</td>\n",
       "      <td>102000.0</td>\n",
       "      <td>Source Verified</td>\n",
       "      <td>n</td>\n",
       "      <td>11.72</td>\n",
       "      <td>2.0</td>\n",
       "      <td>0.0</td>\n",
       "      <td>...</td>\n",
       "      <td>85.7</td>\n",
       "      <td>0.0</td>\n",
       "      <td>0.0</td>\n",
       "      <td>0.0</td>\n",
       "      <td>294664.0</td>\n",
       "      <td>109911.0</td>\n",
       "      <td>9000.0</td>\n",
       "      <td>71044.0</td>\n",
       "      <td>N</td>\n",
       "      <td>N</td>\n",
       "    </tr>\n",
       "    <tr>\n",
       "      <th>2</th>\n",
       "      <td>11000.0</td>\n",
       "      <td>0.2055</td>\n",
       "      <td>294.81</td>\n",
       "      <td>RENT</td>\n",
       "      <td>45000.0</td>\n",
       "      <td>Verified</td>\n",
       "      <td>n</td>\n",
       "      <td>37.25</td>\n",
       "      <td>1.0</td>\n",
       "      <td>3.0</td>\n",
       "      <td>...</td>\n",
       "      <td>94.3</td>\n",
       "      <td>7.7</td>\n",
       "      <td>0.0</td>\n",
       "      <td>0.0</td>\n",
       "      <td>92228.0</td>\n",
       "      <td>36007.0</td>\n",
       "      <td>33000.0</td>\n",
       "      <td>46328.0</td>\n",
       "      <td>N</td>\n",
       "      <td>N</td>\n",
       "    </tr>\n",
       "    <tr>\n",
       "      <th>3</th>\n",
       "      <td>4000.0</td>\n",
       "      <td>0.1612</td>\n",
       "      <td>140.87</td>\n",
       "      <td>MORTGAGE</td>\n",
       "      <td>38000.0</td>\n",
       "      <td>Not Verified</td>\n",
       "      <td>n</td>\n",
       "      <td>42.89</td>\n",
       "      <td>1.0</td>\n",
       "      <td>0.0</td>\n",
       "      <td>...</td>\n",
       "      <td>92.9</td>\n",
       "      <td>100.0</td>\n",
       "      <td>0.0</td>\n",
       "      <td>0.0</td>\n",
       "      <td>284273.0</td>\n",
       "      <td>52236.0</td>\n",
       "      <td>13500.0</td>\n",
       "      <td>52017.0</td>\n",
       "      <td>N</td>\n",
       "      <td>N</td>\n",
       "    </tr>\n",
       "    <tr>\n",
       "      <th>4</th>\n",
       "      <td>14000.0</td>\n",
       "      <td>0.1797</td>\n",
       "      <td>505.93</td>\n",
       "      <td>MORTGAGE</td>\n",
       "      <td>43000.0</td>\n",
       "      <td>Source Verified</td>\n",
       "      <td>n</td>\n",
       "      <td>22.16</td>\n",
       "      <td>1.0</td>\n",
       "      <td>0.0</td>\n",
       "      <td>...</td>\n",
       "      <td>84.1</td>\n",
       "      <td>25.0</td>\n",
       "      <td>0.0</td>\n",
       "      <td>0.0</td>\n",
       "      <td>120280.0</td>\n",
       "      <td>88147.0</td>\n",
       "      <td>33300.0</td>\n",
       "      <td>78680.0</td>\n",
       "      <td>N</td>\n",
       "      <td>N</td>\n",
       "    </tr>\n",
       "  </tbody>\n",
       "</table>\n",
       "<p>5 rows × 83 columns</p>\n",
       "</div>"
      ],
      "text/plain": [
       "   loan_amnt  int_rate  installment home_ownership  annual_inc  \\\n",
       "0     7000.0    0.1894       256.38       MORTGAGE     75000.0   \n",
       "1    40000.0    0.1614       975.71       MORTGAGE    102000.0   \n",
       "2    11000.0    0.2055       294.81           RENT     45000.0   \n",
       "3     4000.0    0.1612       140.87       MORTGAGE     38000.0   \n",
       "4    14000.0    0.1797       505.93       MORTGAGE     43000.0   \n",
       "\n",
       "  verification_status pymnt_plan    dti  delinq_2yrs  inq_last_6mths  ...  \\\n",
       "0        Not Verified          n  28.62          0.0             2.0  ...   \n",
       "1     Source Verified          n  11.72          2.0             0.0  ...   \n",
       "2            Verified          n  37.25          1.0             3.0  ...   \n",
       "3        Not Verified          n  42.89          1.0             0.0  ...   \n",
       "4     Source Verified          n  22.16          1.0             0.0  ...   \n",
       "\n",
       "   pct_tl_nvr_dlq  percent_bc_gt_75  pub_rec_bankruptcies  tax_liens  \\\n",
       "0           100.0              87.5                   0.0        0.0   \n",
       "1            85.7               0.0                   0.0        0.0   \n",
       "2            94.3               7.7                   0.0        0.0   \n",
       "3            92.9             100.0                   0.0        0.0   \n",
       "4            84.1              25.0                   0.0        0.0   \n",
       "\n",
       "  tot_hi_cred_lim  total_bal_ex_mort  total_bc_limit  \\\n",
       "0        352260.0            62666.0         35000.0   \n",
       "1        294664.0           109911.0          9000.0   \n",
       "2         92228.0            36007.0         33000.0   \n",
       "3        284273.0            52236.0         13500.0   \n",
       "4        120280.0            88147.0         33300.0   \n",
       "\n",
       "   total_il_high_credit_limit  hardship_flag  debt_settlement_flag  \n",
       "0                     10000.0              N                     N  \n",
       "1                     71044.0              N                     N  \n",
       "2                     46328.0              N                     N  \n",
       "3                     52017.0              N                     N  \n",
       "4                     78680.0              N                     N  \n",
       "\n",
       "[5 rows x 83 columns]"
      ]
     },
     "execution_count": 4,
     "metadata": {},
     "output_type": "execute_result"
    }
   ],
   "source": [
    "X = df.drop('target', axis=1)\n",
    "X.head()"
   ]
  },
  {
   "cell_type": "code",
   "execution_count": 5,
   "id": "c4353580",
   "metadata": {},
   "outputs": [
    {
     "data": {
      "text/html": [
       "<div>\n",
       "<style scoped>\n",
       "    .dataframe tbody tr th:only-of-type {\n",
       "        vertical-align: middle;\n",
       "    }\n",
       "\n",
       "    .dataframe tbody tr th {\n",
       "        vertical-align: top;\n",
       "    }\n",
       "\n",
       "    .dataframe thead th {\n",
       "        text-align: right;\n",
       "    }\n",
       "</style>\n",
       "<table border=\"1\" class=\"dataframe\">\n",
       "  <thead>\n",
       "    <tr style=\"text-align: right;\">\n",
       "      <th></th>\n",
       "      <th>loan_amnt</th>\n",
       "      <th>int_rate</th>\n",
       "      <th>installment</th>\n",
       "      <th>annual_inc</th>\n",
       "      <th>dti</th>\n",
       "      <th>delinq_2yrs</th>\n",
       "      <th>inq_last_6mths</th>\n",
       "      <th>open_acc</th>\n",
       "      <th>pub_rec</th>\n",
       "      <th>revol_bal</th>\n",
       "      <th>...</th>\n",
       "      <th>verification_status_Verified</th>\n",
       "      <th>pymnt_plan_n</th>\n",
       "      <th>initial_list_status_f</th>\n",
       "      <th>initial_list_status_w</th>\n",
       "      <th>application_type_Individual</th>\n",
       "      <th>application_type_Joint App</th>\n",
       "      <th>hardship_flag_N</th>\n",
       "      <th>hardship_flag_Y</th>\n",
       "      <th>debt_settlement_flag_N</th>\n",
       "      <th>debt_settlement_flag_Y</th>\n",
       "    </tr>\n",
       "  </thead>\n",
       "  <tbody>\n",
       "    <tr>\n",
       "      <th>0</th>\n",
       "      <td>7000.0</td>\n",
       "      <td>0.1894</td>\n",
       "      <td>256.38</td>\n",
       "      <td>75000.0</td>\n",
       "      <td>28.62</td>\n",
       "      <td>0.0</td>\n",
       "      <td>2.0</td>\n",
       "      <td>20.0</td>\n",
       "      <td>0.0</td>\n",
       "      <td>40414.0</td>\n",
       "      <td>...</td>\n",
       "      <td>0</td>\n",
       "      <td>1</td>\n",
       "      <td>1</td>\n",
       "      <td>0</td>\n",
       "      <td>1</td>\n",
       "      <td>0</td>\n",
       "      <td>1</td>\n",
       "      <td>0</td>\n",
       "      <td>1</td>\n",
       "      <td>0</td>\n",
       "    </tr>\n",
       "    <tr>\n",
       "      <th>1</th>\n",
       "      <td>40000.0</td>\n",
       "      <td>0.1614</td>\n",
       "      <td>975.71</td>\n",
       "      <td>102000.0</td>\n",
       "      <td>11.72</td>\n",
       "      <td>2.0</td>\n",
       "      <td>0.0</td>\n",
       "      <td>10.0</td>\n",
       "      <td>0.0</td>\n",
       "      <td>43531.0</td>\n",
       "      <td>...</td>\n",
       "      <td>0</td>\n",
       "      <td>1</td>\n",
       "      <td>0</td>\n",
       "      <td>1</td>\n",
       "      <td>1</td>\n",
       "      <td>0</td>\n",
       "      <td>1</td>\n",
       "      <td>0</td>\n",
       "      <td>1</td>\n",
       "      <td>0</td>\n",
       "    </tr>\n",
       "    <tr>\n",
       "      <th>2</th>\n",
       "      <td>11000.0</td>\n",
       "      <td>0.2055</td>\n",
       "      <td>294.81</td>\n",
       "      <td>45000.0</td>\n",
       "      <td>37.25</td>\n",
       "      <td>1.0</td>\n",
       "      <td>3.0</td>\n",
       "      <td>23.0</td>\n",
       "      <td>0.0</td>\n",
       "      <td>8242.0</td>\n",
       "      <td>...</td>\n",
       "      <td>1</td>\n",
       "      <td>1</td>\n",
       "      <td>0</td>\n",
       "      <td>1</td>\n",
       "      <td>1</td>\n",
       "      <td>0</td>\n",
       "      <td>1</td>\n",
       "      <td>0</td>\n",
       "      <td>1</td>\n",
       "      <td>0</td>\n",
       "    </tr>\n",
       "    <tr>\n",
       "      <th>3</th>\n",
       "      <td>4000.0</td>\n",
       "      <td>0.1612</td>\n",
       "      <td>140.87</td>\n",
       "      <td>38000.0</td>\n",
       "      <td>42.89</td>\n",
       "      <td>1.0</td>\n",
       "      <td>0.0</td>\n",
       "      <td>7.0</td>\n",
       "      <td>0.0</td>\n",
       "      <td>12767.0</td>\n",
       "      <td>...</td>\n",
       "      <td>0</td>\n",
       "      <td>1</td>\n",
       "      <td>0</td>\n",
       "      <td>1</td>\n",
       "      <td>0</td>\n",
       "      <td>1</td>\n",
       "      <td>1</td>\n",
       "      <td>0</td>\n",
       "      <td>1</td>\n",
       "      <td>0</td>\n",
       "    </tr>\n",
       "    <tr>\n",
       "      <th>4</th>\n",
       "      <td>14000.0</td>\n",
       "      <td>0.1797</td>\n",
       "      <td>505.93</td>\n",
       "      <td>43000.0</td>\n",
       "      <td>22.16</td>\n",
       "      <td>1.0</td>\n",
       "      <td>0.0</td>\n",
       "      <td>22.0</td>\n",
       "      <td>0.0</td>\n",
       "      <td>11182.0</td>\n",
       "      <td>...</td>\n",
       "      <td>0</td>\n",
       "      <td>1</td>\n",
       "      <td>0</td>\n",
       "      <td>1</td>\n",
       "      <td>1</td>\n",
       "      <td>0</td>\n",
       "      <td>1</td>\n",
       "      <td>0</td>\n",
       "      <td>1</td>\n",
       "      <td>0</td>\n",
       "    </tr>\n",
       "  </tbody>\n",
       "</table>\n",
       "<p>5 rows × 92 columns</p>\n",
       "</div>"
      ],
      "text/plain": [
       "   loan_amnt  int_rate  installment  annual_inc    dti  delinq_2yrs  \\\n",
       "0     7000.0    0.1894       256.38     75000.0  28.62          0.0   \n",
       "1    40000.0    0.1614       975.71    102000.0  11.72          2.0   \n",
       "2    11000.0    0.2055       294.81     45000.0  37.25          1.0   \n",
       "3     4000.0    0.1612       140.87     38000.0  42.89          1.0   \n",
       "4    14000.0    0.1797       505.93     43000.0  22.16          1.0   \n",
       "\n",
       "   inq_last_6mths  open_acc  pub_rec  revol_bal  ...  \\\n",
       "0             2.0      20.0      0.0    40414.0  ...   \n",
       "1             0.0      10.0      0.0    43531.0  ...   \n",
       "2             3.0      23.0      0.0     8242.0  ...   \n",
       "3             0.0       7.0      0.0    12767.0  ...   \n",
       "4             0.0      22.0      0.0    11182.0  ...   \n",
       "\n",
       "   verification_status_Verified  pymnt_plan_n  initial_list_status_f  \\\n",
       "0                             0             1                      1   \n",
       "1                             0             1                      0   \n",
       "2                             1             1                      0   \n",
       "3                             0             1                      0   \n",
       "4                             0             1                      0   \n",
       "\n",
       "   initial_list_status_w  application_type_Individual  \\\n",
       "0                      0                            1   \n",
       "1                      1                            1   \n",
       "2                      1                            1   \n",
       "3                      1                            0   \n",
       "4                      1                            1   \n",
       "\n",
       "   application_type_Joint App  hardship_flag_N  hardship_flag_Y  \\\n",
       "0                           0                1                0   \n",
       "1                           0                1                0   \n",
       "2                           0                1                0   \n",
       "3                           1                1                0   \n",
       "4                           0                1                0   \n",
       "\n",
       "   debt_settlement_flag_N  debt_settlement_flag_Y  \n",
       "0                       1                       0  \n",
       "1                       1                       0  \n",
       "2                       1                       0  \n",
       "3                       1                       0  \n",
       "4                       1                       0  \n",
       "\n",
       "[5 rows x 92 columns]"
      ]
     },
     "execution_count": 5,
     "metadata": {},
     "output_type": "execute_result"
    }
   ],
   "source": [
    "X_dummies = pd.get_dummies(X)\n",
    "#print(X_dummies.columns)\n",
    "X_dummies.head()"
   ]
  },
  {
   "cell_type": "code",
   "execution_count": 6,
   "id": "0c9f9839",
   "metadata": {},
   "outputs": [],
   "source": [
    "#X_dummies.dtypes.head(5)"
   ]
  },
  {
   "cell_type": "code",
   "execution_count": 7,
   "id": "57d6cc3c",
   "metadata": {},
   "outputs": [
    {
     "data": {
      "text/plain": [
       "array([1, 1, 1, ..., 0, 0, 0])"
      ]
     },
     "execution_count": 7,
     "metadata": {},
     "output_type": "execute_result"
    }
   ],
   "source": [
    "y_label = LabelEncoder().fit_transform(df['target'])\n",
    "y_label"
   ]
  },
  {
   "cell_type": "code",
   "execution_count": 8,
   "id": "8a7f0f43",
   "metadata": {
    "scrolled": true
   },
   "outputs": [],
   "source": [
    "#display(list(X_dummies.columns.values))"
   ]
  },
  {
   "cell_type": "code",
   "execution_count": 9,
   "id": "ad6218a1",
   "metadata": {
    "scrolled": true
   },
   "outputs": [
    {
     "data": {
      "text/html": [
       "<div>\n",
       "<style scoped>\n",
       "    .dataframe tbody tr th:only-of-type {\n",
       "        vertical-align: middle;\n",
       "    }\n",
       "\n",
       "    .dataframe tbody tr th {\n",
       "        vertical-align: top;\n",
       "    }\n",
       "\n",
       "    .dataframe thead th {\n",
       "        text-align: right;\n",
       "    }\n",
       "</style>\n",
       "<table border=\"1\" class=\"dataframe\">\n",
       "  <thead>\n",
       "    <tr style=\"text-align: right;\">\n",
       "      <th></th>\n",
       "      <th>loan_amnt</th>\n",
       "      <th>int_rate</th>\n",
       "      <th>installment</th>\n",
       "      <th>home_ownership</th>\n",
       "      <th>annual_inc</th>\n",
       "      <th>verification_status</th>\n",
       "      <th>pymnt_plan</th>\n",
       "      <th>dti</th>\n",
       "      <th>delinq_2yrs</th>\n",
       "      <th>inq_last_6mths</th>\n",
       "      <th>...</th>\n",
       "      <th>percent_bc_gt_75</th>\n",
       "      <th>pub_rec_bankruptcies</th>\n",
       "      <th>tax_liens</th>\n",
       "      <th>tot_hi_cred_lim</th>\n",
       "      <th>total_bal_ex_mort</th>\n",
       "      <th>total_bc_limit</th>\n",
       "      <th>total_il_high_credit_limit</th>\n",
       "      <th>hardship_flag</th>\n",
       "      <th>debt_settlement_flag</th>\n",
       "      <th>target</th>\n",
       "    </tr>\n",
       "  </thead>\n",
       "  <tbody>\n",
       "    <tr>\n",
       "      <th>0</th>\n",
       "      <td>40000.0</td>\n",
       "      <td>0.1033</td>\n",
       "      <td>856.40</td>\n",
       "      <td>RENT</td>\n",
       "      <td>128700.0</td>\n",
       "      <td>Source Verified</td>\n",
       "      <td>n</td>\n",
       "      <td>12.47</td>\n",
       "      <td>0.0</td>\n",
       "      <td>1.0</td>\n",
       "      <td>...</td>\n",
       "      <td>57.1</td>\n",
       "      <td>0.0</td>\n",
       "      <td>0.0</td>\n",
       "      <td>63915.0</td>\n",
       "      <td>49510.0</td>\n",
       "      <td>49400.0</td>\n",
       "      <td>14515.0</td>\n",
       "      <td>Y</td>\n",
       "      <td>N</td>\n",
       "      <td>low_risk</td>\n",
       "    </tr>\n",
       "    <tr>\n",
       "      <th>1</th>\n",
       "      <td>24450.0</td>\n",
       "      <td>0.1430</td>\n",
       "      <td>572.72</td>\n",
       "      <td>MORTGAGE</td>\n",
       "      <td>44574.0</td>\n",
       "      <td>Not Verified</td>\n",
       "      <td>n</td>\n",
       "      <td>15.05</td>\n",
       "      <td>0.0</td>\n",
       "      <td>1.0</td>\n",
       "      <td>...</td>\n",
       "      <td>0.0</td>\n",
       "      <td>0.0</td>\n",
       "      <td>0.0</td>\n",
       "      <td>136425.0</td>\n",
       "      <td>19439.0</td>\n",
       "      <td>15500.0</td>\n",
       "      <td>18925.0</td>\n",
       "      <td>N</td>\n",
       "      <td>N</td>\n",
       "      <td>low_risk</td>\n",
       "    </tr>\n",
       "    <tr>\n",
       "      <th>2</th>\n",
       "      <td>13500.0</td>\n",
       "      <td>0.1430</td>\n",
       "      <td>316.23</td>\n",
       "      <td>OWN</td>\n",
       "      <td>60000.0</td>\n",
       "      <td>Not Verified</td>\n",
       "      <td>n</td>\n",
       "      <td>28.72</td>\n",
       "      <td>0.0</td>\n",
       "      <td>0.0</td>\n",
       "      <td>...</td>\n",
       "      <td>0.0</td>\n",
       "      <td>0.0</td>\n",
       "      <td>0.0</td>\n",
       "      <td>82124.0</td>\n",
       "      <td>65000.0</td>\n",
       "      <td>5400.0</td>\n",
       "      <td>61724.0</td>\n",
       "      <td>Y</td>\n",
       "      <td>N</td>\n",
       "      <td>low_risk</td>\n",
       "    </tr>\n",
       "    <tr>\n",
       "      <th>3</th>\n",
       "      <td>10625.0</td>\n",
       "      <td>0.1774</td>\n",
       "      <td>268.31</td>\n",
       "      <td>RENT</td>\n",
       "      <td>60000.0</td>\n",
       "      <td>Verified</td>\n",
       "      <td>n</td>\n",
       "      <td>15.70</td>\n",
       "      <td>0.0</td>\n",
       "      <td>4.0</td>\n",
       "      <td>...</td>\n",
       "      <td>20.0</td>\n",
       "      <td>0.0</td>\n",
       "      <td>0.0</td>\n",
       "      <td>54855.0</td>\n",
       "      <td>50335.0</td>\n",
       "      <td>23200.0</td>\n",
       "      <td>26255.0</td>\n",
       "      <td>N</td>\n",
       "      <td>N</td>\n",
       "      <td>low_risk</td>\n",
       "    </tr>\n",
       "    <tr>\n",
       "      <th>4</th>\n",
       "      <td>6375.0</td>\n",
       "      <td>0.1862</td>\n",
       "      <td>232.46</td>\n",
       "      <td>RENT</td>\n",
       "      <td>60000.0</td>\n",
       "      <td>Source Verified</td>\n",
       "      <td>n</td>\n",
       "      <td>35.50</td>\n",
       "      <td>0.0</td>\n",
       "      <td>0.0</td>\n",
       "      <td>...</td>\n",
       "      <td>75.0</td>\n",
       "      <td>0.0</td>\n",
       "      <td>0.0</td>\n",
       "      <td>90445.0</td>\n",
       "      <td>56541.0</td>\n",
       "      <td>15300.0</td>\n",
       "      <td>72345.0</td>\n",
       "      <td>N</td>\n",
       "      <td>N</td>\n",
       "      <td>low_risk</td>\n",
       "    </tr>\n",
       "  </tbody>\n",
       "</table>\n",
       "<p>5 rows × 84 columns</p>\n",
       "</div>"
      ],
      "text/plain": [
       "   loan_amnt  int_rate  installment home_ownership  annual_inc  \\\n",
       "0    40000.0    0.1033       856.40           RENT    128700.0   \n",
       "1    24450.0    0.1430       572.72       MORTGAGE     44574.0   \n",
       "2    13500.0    0.1430       316.23            OWN     60000.0   \n",
       "3    10625.0    0.1774       268.31           RENT     60000.0   \n",
       "4     6375.0    0.1862       232.46           RENT     60000.0   \n",
       "\n",
       "  verification_status pymnt_plan    dti  delinq_2yrs  inq_last_6mths  ...  \\\n",
       "0     Source Verified          n  12.47          0.0             1.0  ...   \n",
       "1        Not Verified          n  15.05          0.0             1.0  ...   \n",
       "2        Not Verified          n  28.72          0.0             0.0  ...   \n",
       "3            Verified          n  15.70          0.0             4.0  ...   \n",
       "4     Source Verified          n  35.50          0.0             0.0  ...   \n",
       "\n",
       "   percent_bc_gt_75  pub_rec_bankruptcies  tax_liens  tot_hi_cred_lim  \\\n",
       "0              57.1                   0.0        0.0          63915.0   \n",
       "1               0.0                   0.0        0.0         136425.0   \n",
       "2               0.0                   0.0        0.0          82124.0   \n",
       "3              20.0                   0.0        0.0          54855.0   \n",
       "4              75.0                   0.0        0.0          90445.0   \n",
       "\n",
       "  total_bal_ex_mort  total_bc_limit  total_il_high_credit_limit  \\\n",
       "0           49510.0         49400.0                     14515.0   \n",
       "1           19439.0         15500.0                     18925.0   \n",
       "2           65000.0          5400.0                     61724.0   \n",
       "3           50335.0         23200.0                     26255.0   \n",
       "4           56541.0         15300.0                     72345.0   \n",
       "\n",
       "   hardship_flag  debt_settlement_flag    target  \n",
       "0              Y                     N  low_risk  \n",
       "1              N                     N  low_risk  \n",
       "2              Y                     N  low_risk  \n",
       "3              N                     N  low_risk  \n",
       "4              N                     N  low_risk  \n",
       "\n",
       "[5 rows x 84 columns]"
      ]
     },
     "execution_count": 9,
     "metadata": {},
     "output_type": "execute_result"
    }
   ],
   "source": [
    "df1 = pd.read_csv('Generator/2020Q1loans.csv')\n",
    "df1.head()"
   ]
  },
  {
   "cell_type": "code",
   "execution_count": 10,
   "id": "84518e7f",
   "metadata": {},
   "outputs": [],
   "source": [
    "#display(list(df1.columns.values))"
   ]
  },
  {
   "cell_type": "code",
   "execution_count": 11,
   "id": "d5293773",
   "metadata": {},
   "outputs": [
    {
     "data": {
      "text/html": [
       "<div>\n",
       "<style scoped>\n",
       "    .dataframe tbody tr th:only-of-type {\n",
       "        vertical-align: middle;\n",
       "    }\n",
       "\n",
       "    .dataframe tbody tr th {\n",
       "        vertical-align: top;\n",
       "    }\n",
       "\n",
       "    .dataframe thead th {\n",
       "        text-align: right;\n",
       "    }\n",
       "</style>\n",
       "<table border=\"1\" class=\"dataframe\">\n",
       "  <thead>\n",
       "    <tr style=\"text-align: right;\">\n",
       "      <th></th>\n",
       "      <th>loan_amnt</th>\n",
       "      <th>int_rate</th>\n",
       "      <th>installment</th>\n",
       "      <th>home_ownership</th>\n",
       "      <th>annual_inc</th>\n",
       "      <th>verification_status</th>\n",
       "      <th>pymnt_plan</th>\n",
       "      <th>dti</th>\n",
       "      <th>delinq_2yrs</th>\n",
       "      <th>inq_last_6mths</th>\n",
       "      <th>...</th>\n",
       "      <th>pct_tl_nvr_dlq</th>\n",
       "      <th>percent_bc_gt_75</th>\n",
       "      <th>pub_rec_bankruptcies</th>\n",
       "      <th>tax_liens</th>\n",
       "      <th>tot_hi_cred_lim</th>\n",
       "      <th>total_bal_ex_mort</th>\n",
       "      <th>total_bc_limit</th>\n",
       "      <th>total_il_high_credit_limit</th>\n",
       "      <th>hardship_flag</th>\n",
       "      <th>debt_settlement_flag</th>\n",
       "    </tr>\n",
       "  </thead>\n",
       "  <tbody>\n",
       "    <tr>\n",
       "      <th>0</th>\n",
       "      <td>40000.0</td>\n",
       "      <td>0.1033</td>\n",
       "      <td>856.40</td>\n",
       "      <td>RENT</td>\n",
       "      <td>128700.0</td>\n",
       "      <td>Source Verified</td>\n",
       "      <td>n</td>\n",
       "      <td>12.47</td>\n",
       "      <td>0.0</td>\n",
       "      <td>1.0</td>\n",
       "      <td>...</td>\n",
       "      <td>84.2</td>\n",
       "      <td>57.1</td>\n",
       "      <td>0.0</td>\n",
       "      <td>0.0</td>\n",
       "      <td>63915.0</td>\n",
       "      <td>49510.0</td>\n",
       "      <td>49400.0</td>\n",
       "      <td>14515.0</td>\n",
       "      <td>Y</td>\n",
       "      <td>N</td>\n",
       "    </tr>\n",
       "    <tr>\n",
       "      <th>1</th>\n",
       "      <td>24450.0</td>\n",
       "      <td>0.1430</td>\n",
       "      <td>572.72</td>\n",
       "      <td>MORTGAGE</td>\n",
       "      <td>44574.0</td>\n",
       "      <td>Not Verified</td>\n",
       "      <td>n</td>\n",
       "      <td>15.05</td>\n",
       "      <td>0.0</td>\n",
       "      <td>1.0</td>\n",
       "      <td>...</td>\n",
       "      <td>100.0</td>\n",
       "      <td>0.0</td>\n",
       "      <td>0.0</td>\n",
       "      <td>0.0</td>\n",
       "      <td>136425.0</td>\n",
       "      <td>19439.0</td>\n",
       "      <td>15500.0</td>\n",
       "      <td>18925.0</td>\n",
       "      <td>N</td>\n",
       "      <td>N</td>\n",
       "    </tr>\n",
       "    <tr>\n",
       "      <th>2</th>\n",
       "      <td>13500.0</td>\n",
       "      <td>0.1430</td>\n",
       "      <td>316.23</td>\n",
       "      <td>OWN</td>\n",
       "      <td>60000.0</td>\n",
       "      <td>Not Verified</td>\n",
       "      <td>n</td>\n",
       "      <td>28.72</td>\n",
       "      <td>0.0</td>\n",
       "      <td>0.0</td>\n",
       "      <td>...</td>\n",
       "      <td>100.0</td>\n",
       "      <td>0.0</td>\n",
       "      <td>0.0</td>\n",
       "      <td>0.0</td>\n",
       "      <td>82124.0</td>\n",
       "      <td>65000.0</td>\n",
       "      <td>5400.0</td>\n",
       "      <td>61724.0</td>\n",
       "      <td>Y</td>\n",
       "      <td>N</td>\n",
       "    </tr>\n",
       "    <tr>\n",
       "      <th>3</th>\n",
       "      <td>10625.0</td>\n",
       "      <td>0.1774</td>\n",
       "      <td>268.31</td>\n",
       "      <td>RENT</td>\n",
       "      <td>60000.0</td>\n",
       "      <td>Verified</td>\n",
       "      <td>n</td>\n",
       "      <td>15.70</td>\n",
       "      <td>0.0</td>\n",
       "      <td>4.0</td>\n",
       "      <td>...</td>\n",
       "      <td>91.4</td>\n",
       "      <td>20.0</td>\n",
       "      <td>0.0</td>\n",
       "      <td>0.0</td>\n",
       "      <td>54855.0</td>\n",
       "      <td>50335.0</td>\n",
       "      <td>23200.0</td>\n",
       "      <td>26255.0</td>\n",
       "      <td>N</td>\n",
       "      <td>N</td>\n",
       "    </tr>\n",
       "    <tr>\n",
       "      <th>4</th>\n",
       "      <td>6375.0</td>\n",
       "      <td>0.1862</td>\n",
       "      <td>232.46</td>\n",
       "      <td>RENT</td>\n",
       "      <td>60000.0</td>\n",
       "      <td>Source Verified</td>\n",
       "      <td>n</td>\n",
       "      <td>35.50</td>\n",
       "      <td>0.0</td>\n",
       "      <td>0.0</td>\n",
       "      <td>...</td>\n",
       "      <td>100.0</td>\n",
       "      <td>75.0</td>\n",
       "      <td>0.0</td>\n",
       "      <td>0.0</td>\n",
       "      <td>90445.0</td>\n",
       "      <td>56541.0</td>\n",
       "      <td>15300.0</td>\n",
       "      <td>72345.0</td>\n",
       "      <td>N</td>\n",
       "      <td>N</td>\n",
       "    </tr>\n",
       "  </tbody>\n",
       "</table>\n",
       "<p>5 rows × 83 columns</p>\n",
       "</div>"
      ],
      "text/plain": [
       "   loan_amnt  int_rate  installment home_ownership  annual_inc  \\\n",
       "0    40000.0    0.1033       856.40           RENT    128700.0   \n",
       "1    24450.0    0.1430       572.72       MORTGAGE     44574.0   \n",
       "2    13500.0    0.1430       316.23            OWN     60000.0   \n",
       "3    10625.0    0.1774       268.31           RENT     60000.0   \n",
       "4     6375.0    0.1862       232.46           RENT     60000.0   \n",
       "\n",
       "  verification_status pymnt_plan    dti  delinq_2yrs  inq_last_6mths  ...  \\\n",
       "0     Source Verified          n  12.47          0.0             1.0  ...   \n",
       "1        Not Verified          n  15.05          0.0             1.0  ...   \n",
       "2        Not Verified          n  28.72          0.0             0.0  ...   \n",
       "3            Verified          n  15.70          0.0             4.0  ...   \n",
       "4     Source Verified          n  35.50          0.0             0.0  ...   \n",
       "\n",
       "   pct_tl_nvr_dlq  percent_bc_gt_75  pub_rec_bankruptcies  tax_liens  \\\n",
       "0            84.2              57.1                   0.0        0.0   \n",
       "1           100.0               0.0                   0.0        0.0   \n",
       "2           100.0               0.0                   0.0        0.0   \n",
       "3            91.4              20.0                   0.0        0.0   \n",
       "4           100.0              75.0                   0.0        0.0   \n",
       "\n",
       "  tot_hi_cred_lim  total_bal_ex_mort  total_bc_limit  \\\n",
       "0         63915.0            49510.0         49400.0   \n",
       "1        136425.0            19439.0         15500.0   \n",
       "2         82124.0            65000.0          5400.0   \n",
       "3         54855.0            50335.0         23200.0   \n",
       "4         90445.0            56541.0         15300.0   \n",
       "\n",
       "   total_il_high_credit_limit  hardship_flag  debt_settlement_flag  \n",
       "0                     14515.0              Y                     N  \n",
       "1                     18925.0              N                     N  \n",
       "2                     61724.0              Y                     N  \n",
       "3                     26255.0              N                     N  \n",
       "4                     72345.0              N                     N  \n",
       "\n",
       "[5 rows x 83 columns]"
      ]
     },
     "execution_count": 11,
     "metadata": {},
     "output_type": "execute_result"
    }
   ],
   "source": [
    "X1 = df1.drop('target', axis=1)\n",
    "X1.head()"
   ]
  },
  {
   "cell_type": "code",
   "execution_count": 12,
   "id": "86382b0a",
   "metadata": {
    "scrolled": true
   },
   "outputs": [
    {
     "data": {
      "text/html": [
       "<div>\n",
       "<style scoped>\n",
       "    .dataframe tbody tr th:only-of-type {\n",
       "        vertical-align: middle;\n",
       "    }\n",
       "\n",
       "    .dataframe tbody tr th {\n",
       "        vertical-align: top;\n",
       "    }\n",
       "\n",
       "    .dataframe thead th {\n",
       "        text-align: right;\n",
       "    }\n",
       "</style>\n",
       "<table border=\"1\" class=\"dataframe\">\n",
       "  <thead>\n",
       "    <tr style=\"text-align: right;\">\n",
       "      <th></th>\n",
       "      <th>loan_amnt</th>\n",
       "      <th>int_rate</th>\n",
       "      <th>installment</th>\n",
       "      <th>annual_inc</th>\n",
       "      <th>dti</th>\n",
       "      <th>delinq_2yrs</th>\n",
       "      <th>inq_last_6mths</th>\n",
       "      <th>open_acc</th>\n",
       "      <th>pub_rec</th>\n",
       "      <th>revol_bal</th>\n",
       "      <th>...</th>\n",
       "      <th>verification_status_Source Verified</th>\n",
       "      <th>verification_status_Verified</th>\n",
       "      <th>pymnt_plan_n</th>\n",
       "      <th>initial_list_status_f</th>\n",
       "      <th>initial_list_status_w</th>\n",
       "      <th>application_type_Individual</th>\n",
       "      <th>application_type_Joint App</th>\n",
       "      <th>hardship_flag_N</th>\n",
       "      <th>hardship_flag_Y</th>\n",
       "      <th>debt_settlement_flag_N</th>\n",
       "    </tr>\n",
       "  </thead>\n",
       "  <tbody>\n",
       "    <tr>\n",
       "      <th>0</th>\n",
       "      <td>40000.0</td>\n",
       "      <td>0.1033</td>\n",
       "      <td>856.40</td>\n",
       "      <td>128700.0</td>\n",
       "      <td>12.47</td>\n",
       "      <td>0.0</td>\n",
       "      <td>1.0</td>\n",
       "      <td>8.0</td>\n",
       "      <td>0.0</td>\n",
       "      <td>38113.0</td>\n",
       "      <td>...</td>\n",
       "      <td>1</td>\n",
       "      <td>0</td>\n",
       "      <td>1</td>\n",
       "      <td>0</td>\n",
       "      <td>1</td>\n",
       "      <td>1</td>\n",
       "      <td>0</td>\n",
       "      <td>0</td>\n",
       "      <td>1</td>\n",
       "      <td>1</td>\n",
       "    </tr>\n",
       "    <tr>\n",
       "      <th>1</th>\n",
       "      <td>24450.0</td>\n",
       "      <td>0.1430</td>\n",
       "      <td>572.72</td>\n",
       "      <td>44574.0</td>\n",
       "      <td>15.05</td>\n",
       "      <td>0.0</td>\n",
       "      <td>1.0</td>\n",
       "      <td>6.0</td>\n",
       "      <td>0.0</td>\n",
       "      <td>1665.0</td>\n",
       "      <td>...</td>\n",
       "      <td>0</td>\n",
       "      <td>0</td>\n",
       "      <td>1</td>\n",
       "      <td>0</td>\n",
       "      <td>1</td>\n",
       "      <td>1</td>\n",
       "      <td>0</td>\n",
       "      <td>1</td>\n",
       "      <td>0</td>\n",
       "      <td>1</td>\n",
       "    </tr>\n",
       "    <tr>\n",
       "      <th>2</th>\n",
       "      <td>13500.0</td>\n",
       "      <td>0.1430</td>\n",
       "      <td>316.23</td>\n",
       "      <td>60000.0</td>\n",
       "      <td>28.72</td>\n",
       "      <td>0.0</td>\n",
       "      <td>0.0</td>\n",
       "      <td>8.0</td>\n",
       "      <td>0.0</td>\n",
       "      <td>13857.0</td>\n",
       "      <td>...</td>\n",
       "      <td>0</td>\n",
       "      <td>0</td>\n",
       "      <td>1</td>\n",
       "      <td>0</td>\n",
       "      <td>1</td>\n",
       "      <td>1</td>\n",
       "      <td>0</td>\n",
       "      <td>0</td>\n",
       "      <td>1</td>\n",
       "      <td>1</td>\n",
       "    </tr>\n",
       "    <tr>\n",
       "      <th>3</th>\n",
       "      <td>10625.0</td>\n",
       "      <td>0.1774</td>\n",
       "      <td>268.31</td>\n",
       "      <td>60000.0</td>\n",
       "      <td>15.70</td>\n",
       "      <td>0.0</td>\n",
       "      <td>4.0</td>\n",
       "      <td>17.0</td>\n",
       "      <td>0.0</td>\n",
       "      <td>6216.0</td>\n",
       "      <td>...</td>\n",
       "      <td>0</td>\n",
       "      <td>1</td>\n",
       "      <td>1</td>\n",
       "      <td>0</td>\n",
       "      <td>1</td>\n",
       "      <td>1</td>\n",
       "      <td>0</td>\n",
       "      <td>1</td>\n",
       "      <td>0</td>\n",
       "      <td>1</td>\n",
       "    </tr>\n",
       "    <tr>\n",
       "      <th>4</th>\n",
       "      <td>6375.0</td>\n",
       "      <td>0.1862</td>\n",
       "      <td>232.46</td>\n",
       "      <td>60000.0</td>\n",
       "      <td>35.50</td>\n",
       "      <td>0.0</td>\n",
       "      <td>0.0</td>\n",
       "      <td>13.0</td>\n",
       "      <td>0.0</td>\n",
       "      <td>12681.0</td>\n",
       "      <td>...</td>\n",
       "      <td>1</td>\n",
       "      <td>0</td>\n",
       "      <td>1</td>\n",
       "      <td>0</td>\n",
       "      <td>1</td>\n",
       "      <td>1</td>\n",
       "      <td>0</td>\n",
       "      <td>1</td>\n",
       "      <td>0</td>\n",
       "      <td>1</td>\n",
       "    </tr>\n",
       "  </tbody>\n",
       "</table>\n",
       "<p>5 rows × 91 columns</p>\n",
       "</div>"
      ],
      "text/plain": [
       "   loan_amnt  int_rate  installment  annual_inc    dti  delinq_2yrs  \\\n",
       "0    40000.0    0.1033       856.40    128700.0  12.47          0.0   \n",
       "1    24450.0    0.1430       572.72     44574.0  15.05          0.0   \n",
       "2    13500.0    0.1430       316.23     60000.0  28.72          0.0   \n",
       "3    10625.0    0.1774       268.31     60000.0  15.70          0.0   \n",
       "4     6375.0    0.1862       232.46     60000.0  35.50          0.0   \n",
       "\n",
       "   inq_last_6mths  open_acc  pub_rec  revol_bal  ...  \\\n",
       "0             1.0       8.0      0.0    38113.0  ...   \n",
       "1             1.0       6.0      0.0     1665.0  ...   \n",
       "2             0.0       8.0      0.0    13857.0  ...   \n",
       "3             4.0      17.0      0.0     6216.0  ...   \n",
       "4             0.0      13.0      0.0    12681.0  ...   \n",
       "\n",
       "   verification_status_Source Verified  verification_status_Verified  \\\n",
       "0                                    1                             0   \n",
       "1                                    0                             0   \n",
       "2                                    0                             0   \n",
       "3                                    0                             1   \n",
       "4                                    1                             0   \n",
       "\n",
       "   pymnt_plan_n  initial_list_status_f  initial_list_status_w  \\\n",
       "0             1                      0                      1   \n",
       "1             1                      0                      1   \n",
       "2             1                      0                      1   \n",
       "3             1                      0                      1   \n",
       "4             1                      0                      1   \n",
       "\n",
       "   application_type_Individual  application_type_Joint App  hardship_flag_N  \\\n",
       "0                            1                           0                0   \n",
       "1                            1                           0                1   \n",
       "2                            1                           0                0   \n",
       "3                            1                           0                1   \n",
       "4                            1                           0                1   \n",
       "\n",
       "   hardship_flag_Y  debt_settlement_flag_N  \n",
       "0                1                       1  \n",
       "1                0                       1  \n",
       "2                1                       1  \n",
       "3                0                       1  \n",
       "4                0                       1  \n",
       "\n",
       "[5 rows x 91 columns]"
      ]
     },
     "execution_count": 12,
     "metadata": {},
     "output_type": "execute_result"
    }
   ],
   "source": [
    "X1_dummies = pd.get_dummies(X1)\n",
    "#print(X1_dummies.columns)\n",
    "X1_dummies.head()"
   ]
  },
  {
   "cell_type": "code",
   "execution_count": 13,
   "id": "91fd4854",
   "metadata": {},
   "outputs": [
    {
     "data": {
      "text/plain": [
       "array([1, 1, 1, ..., 0, 0, 0])"
      ]
     },
     "execution_count": 13,
     "metadata": {},
     "output_type": "execute_result"
    }
   ],
   "source": [
    "y1_label = LabelEncoder().fit_transform(df1['target'])\n",
    "y1_label"
   ]
  },
  {
   "cell_type": "code",
   "execution_count": 14,
   "id": "d0ef4939",
   "metadata": {
    "scrolled": true
   },
   "outputs": [],
   "source": [
    "#display(list(X1_dummies.columns.values))"
   ]
  },
  {
   "cell_type": "code",
   "execution_count": 15,
   "id": "079e4902",
   "metadata": {},
   "outputs": [
    {
     "name": "stdout",
     "output_type": "stream",
     "text": [
      "Missing columns : {'debt_settlement_flag_Y'}\n"
     ]
    }
   ],
   "source": [
    "set2019 =set((X_dummies.columns.values)) \n",
    "set2020=set((X1_dummies.columns.values)) \n",
    "missing_columns = set2019.difference(set2020)\n",
    "print(\"Missing columns :\", missing_columns)"
   ]
  },
  {
   "cell_type": "code",
   "execution_count": 16,
   "id": "fe55e752",
   "metadata": {
    "scrolled": true
   },
   "outputs": [
    {
     "data": {
      "text/html": [
       "<div>\n",
       "<style scoped>\n",
       "    .dataframe tbody tr th:only-of-type {\n",
       "        vertical-align: middle;\n",
       "    }\n",
       "\n",
       "    .dataframe tbody tr th {\n",
       "        vertical-align: top;\n",
       "    }\n",
       "\n",
       "    .dataframe thead th {\n",
       "        text-align: right;\n",
       "    }\n",
       "</style>\n",
       "<table border=\"1\" class=\"dataframe\">\n",
       "  <thead>\n",
       "    <tr style=\"text-align: right;\">\n",
       "      <th></th>\n",
       "      <th>loan_amnt</th>\n",
       "      <th>int_rate</th>\n",
       "      <th>installment</th>\n",
       "      <th>annual_inc</th>\n",
       "      <th>dti</th>\n",
       "      <th>delinq_2yrs</th>\n",
       "      <th>inq_last_6mths</th>\n",
       "      <th>open_acc</th>\n",
       "      <th>pub_rec</th>\n",
       "      <th>revol_bal</th>\n",
       "      <th>...</th>\n",
       "      <th>verification_status_Verified</th>\n",
       "      <th>pymnt_plan_n</th>\n",
       "      <th>initial_list_status_f</th>\n",
       "      <th>initial_list_status_w</th>\n",
       "      <th>application_type_Individual</th>\n",
       "      <th>application_type_Joint App</th>\n",
       "      <th>hardship_flag_N</th>\n",
       "      <th>hardship_flag_Y</th>\n",
       "      <th>debt_settlement_flag_N</th>\n",
       "      <th>debt_settlement_flag_Y</th>\n",
       "    </tr>\n",
       "  </thead>\n",
       "  <tbody>\n",
       "    <tr>\n",
       "      <th>0</th>\n",
       "      <td>40000.0</td>\n",
       "      <td>0.1033</td>\n",
       "      <td>856.40</td>\n",
       "      <td>128700.0</td>\n",
       "      <td>12.47</td>\n",
       "      <td>0.0</td>\n",
       "      <td>1.0</td>\n",
       "      <td>8.0</td>\n",
       "      <td>0.0</td>\n",
       "      <td>38113.0</td>\n",
       "      <td>...</td>\n",
       "      <td>0</td>\n",
       "      <td>1</td>\n",
       "      <td>0</td>\n",
       "      <td>1</td>\n",
       "      <td>1</td>\n",
       "      <td>0</td>\n",
       "      <td>0</td>\n",
       "      <td>1</td>\n",
       "      <td>1</td>\n",
       "      <td>0</td>\n",
       "    </tr>\n",
       "    <tr>\n",
       "      <th>1</th>\n",
       "      <td>24450.0</td>\n",
       "      <td>0.1430</td>\n",
       "      <td>572.72</td>\n",
       "      <td>44574.0</td>\n",
       "      <td>15.05</td>\n",
       "      <td>0.0</td>\n",
       "      <td>1.0</td>\n",
       "      <td>6.0</td>\n",
       "      <td>0.0</td>\n",
       "      <td>1665.0</td>\n",
       "      <td>...</td>\n",
       "      <td>0</td>\n",
       "      <td>1</td>\n",
       "      <td>0</td>\n",
       "      <td>1</td>\n",
       "      <td>1</td>\n",
       "      <td>0</td>\n",
       "      <td>1</td>\n",
       "      <td>0</td>\n",
       "      <td>1</td>\n",
       "      <td>0</td>\n",
       "    </tr>\n",
       "    <tr>\n",
       "      <th>2</th>\n",
       "      <td>13500.0</td>\n",
       "      <td>0.1430</td>\n",
       "      <td>316.23</td>\n",
       "      <td>60000.0</td>\n",
       "      <td>28.72</td>\n",
       "      <td>0.0</td>\n",
       "      <td>0.0</td>\n",
       "      <td>8.0</td>\n",
       "      <td>0.0</td>\n",
       "      <td>13857.0</td>\n",
       "      <td>...</td>\n",
       "      <td>0</td>\n",
       "      <td>1</td>\n",
       "      <td>0</td>\n",
       "      <td>1</td>\n",
       "      <td>1</td>\n",
       "      <td>0</td>\n",
       "      <td>0</td>\n",
       "      <td>1</td>\n",
       "      <td>1</td>\n",
       "      <td>0</td>\n",
       "    </tr>\n",
       "    <tr>\n",
       "      <th>3</th>\n",
       "      <td>10625.0</td>\n",
       "      <td>0.1774</td>\n",
       "      <td>268.31</td>\n",
       "      <td>60000.0</td>\n",
       "      <td>15.70</td>\n",
       "      <td>0.0</td>\n",
       "      <td>4.0</td>\n",
       "      <td>17.0</td>\n",
       "      <td>0.0</td>\n",
       "      <td>6216.0</td>\n",
       "      <td>...</td>\n",
       "      <td>1</td>\n",
       "      <td>1</td>\n",
       "      <td>0</td>\n",
       "      <td>1</td>\n",
       "      <td>1</td>\n",
       "      <td>0</td>\n",
       "      <td>1</td>\n",
       "      <td>0</td>\n",
       "      <td>1</td>\n",
       "      <td>0</td>\n",
       "    </tr>\n",
       "    <tr>\n",
       "      <th>4</th>\n",
       "      <td>6375.0</td>\n",
       "      <td>0.1862</td>\n",
       "      <td>232.46</td>\n",
       "      <td>60000.0</td>\n",
       "      <td>35.50</td>\n",
       "      <td>0.0</td>\n",
       "      <td>0.0</td>\n",
       "      <td>13.0</td>\n",
       "      <td>0.0</td>\n",
       "      <td>12681.0</td>\n",
       "      <td>...</td>\n",
       "      <td>0</td>\n",
       "      <td>1</td>\n",
       "      <td>0</td>\n",
       "      <td>1</td>\n",
       "      <td>1</td>\n",
       "      <td>0</td>\n",
       "      <td>1</td>\n",
       "      <td>0</td>\n",
       "      <td>1</td>\n",
       "      <td>0</td>\n",
       "    </tr>\n",
       "  </tbody>\n",
       "</table>\n",
       "<p>5 rows × 92 columns</p>\n",
       "</div>"
      ],
      "text/plain": [
       "   loan_amnt  int_rate  installment  annual_inc    dti  delinq_2yrs  \\\n",
       "0    40000.0    0.1033       856.40    128700.0  12.47          0.0   \n",
       "1    24450.0    0.1430       572.72     44574.0  15.05          0.0   \n",
       "2    13500.0    0.1430       316.23     60000.0  28.72          0.0   \n",
       "3    10625.0    0.1774       268.31     60000.0  15.70          0.0   \n",
       "4     6375.0    0.1862       232.46     60000.0  35.50          0.0   \n",
       "\n",
       "   inq_last_6mths  open_acc  pub_rec  revol_bal  ...  \\\n",
       "0             1.0       8.0      0.0    38113.0  ...   \n",
       "1             1.0       6.0      0.0     1665.0  ...   \n",
       "2             0.0       8.0      0.0    13857.0  ...   \n",
       "3             4.0      17.0      0.0     6216.0  ...   \n",
       "4             0.0      13.0      0.0    12681.0  ...   \n",
       "\n",
       "   verification_status_Verified  pymnt_plan_n  initial_list_status_f  \\\n",
       "0                             0             1                      0   \n",
       "1                             0             1                      0   \n",
       "2                             0             1                      0   \n",
       "3                             1             1                      0   \n",
       "4                             0             1                      0   \n",
       "\n",
       "   initial_list_status_w  application_type_Individual  \\\n",
       "0                      1                            1   \n",
       "1                      1                            1   \n",
       "2                      1                            1   \n",
       "3                      1                            1   \n",
       "4                      1                            1   \n",
       "\n",
       "   application_type_Joint App  hardship_flag_N  hardship_flag_Y  \\\n",
       "0                           0                0                1   \n",
       "1                           0                1                0   \n",
       "2                           0                0                1   \n",
       "3                           0                1                0   \n",
       "4                           0                1                0   \n",
       "\n",
       "   debt_settlement_flag_N  debt_settlement_flag_Y  \n",
       "0                       1                       0  \n",
       "1                       1                       0  \n",
       "2                       1                       0  \n",
       "3                       1                       0  \n",
       "4                       1                       0  \n",
       "\n",
       "[5 rows x 92 columns]"
      ]
     },
     "execution_count": 16,
     "metadata": {},
     "output_type": "execute_result"
    }
   ],
   "source": [
    "X1_dummies[\"debt_settlement_flag_Y\"] = 0\n",
    "X1_dummies.head()"
   ]
  },
  {
   "cell_type": "markdown",
   "id": "03265a8f",
   "metadata": {},
   "source": [
    "### LogisticRegression Model"
   ]
  },
  {
   "cell_type": "markdown",
   "id": "18ba0983",
   "metadata": {},
   "source": [
    "Logistic regression as a well known and used classification should work well with our data. We used Logistic Regression Model on unscaled data first, then we  improved model by changing the C value. (C:Inverse of regularization strength)\n"
   ]
  },
  {
   "cell_type": "code",
   "execution_count": 18,
   "id": "b8c137ff",
   "metadata": {
    "scrolled": false
   },
   "outputs": [
    {
     "name": "stdout",
     "output_type": "stream",
     "text": [
      "Training Data Score: 0.7054187192118226\n",
      "Testing Data Score: 0.5642279880901744\n",
      "Model:Logistic Regression\n",
      "score:0.5642279880901744\n",
      "\n"
     ]
    }
   ],
   "source": [
    "reg = LogisticRegression(max_iter=10000, random_state = 42).fit(X_dummies, y_label)\n",
    "\n",
    "#reg.score(X1_dummies,y1_label)\n",
    "print(f\"Training Data Score: {reg.score(X_dummies, y_label)}\")\n",
    "print(f\"Testing Data Score: {reg.score(X1_dummies, y1_label)}\")\n",
    "\n",
    "print('Model:Logistic Regression')\n",
    "print(f'score:{reg.score(X1_dummies, y1_label)}\\n')\n"
   ]
  },
  {
   "cell_type": "code",
   "execution_count": 19,
   "id": "52060700",
   "metadata": {},
   "outputs": [],
   "source": [
    "target_names = [\"high_risk\", \"low_risk\"]"
   ]
  },
  {
   "cell_type": "code",
   "execution_count": 20,
   "id": "50010107",
   "metadata": {
    "scrolled": false
   },
   "outputs": [
    {
     "name": "stdout",
     "output_type": "stream",
     "text": [
      "[[ 828 1523]\n",
      " [ 526 1825]]\n",
      "              precision    recall  f1-score   support\n",
      "\n",
      "   high_risk       0.61      0.35      0.45      2351\n",
      "    low_risk       0.55      0.78      0.64      2351\n",
      "\n",
      "    accuracy                           0.56      4702\n",
      "   macro avg       0.58      0.56      0.54      4702\n",
      "weighted avg       0.58      0.56      0.54      4702\n",
      "\n"
     ]
    }
   ],
   "source": [
    "predictions = reg.predict(X1_dummies)\n",
    "\n",
    "y_true = y1_label\n",
    "y_pred = reg.predict(X1_dummies)\n",
    "#print(y_pred)\n",
    "confusion_matrix_l = confusion_matrix(y_true, y_pred)\n",
    "confusion_matrix_l\n",
    "print(confusion_matrix(y_true, y_pred))\n",
    "print(classification_report(y_true, y_pred, target_names=target_names))\n",
    "      "
   ]
  },
  {
   "cell_type": "code",
   "execution_count": 21,
   "id": "cb1a4787",
   "metadata": {
    "scrolled": true
   },
   "outputs": [
    {
     "name": "stdout",
     "output_type": "stream",
     "text": [
      "Accuracy: 0.5642279880901744\n",
      "Precision: 0.5451015531660693\n",
      "Sensitivity: 0.7762654189706508\n"
     ]
    }
   ],
   "source": [
    "from sklearn import metrics\n",
    "\n",
    "print(\"Accuracy:\",metrics.accuracy_score(y_true, y_pred))\n",
    "print(\"Precision:\",metrics.precision_score(y_true, y_pred))\n",
    "print(\"Sensitivity:\",metrics.recall_score(y_true, y_pred))"
   ]
  },
  {
   "cell_type": "code",
   "execution_count": 22,
   "id": "9d864e31",
   "metadata": {},
   "outputs": [
    {
     "data": {
      "text/plain": [
       "Text(0.5, 257.44, 'Predicted label')"
      ]
     },
     "execution_count": 22,
     "metadata": {},
     "output_type": "execute_result"
    },
    {
     "data": {
      "image/png": "[encoded data removed]",
      "text/plain": [
       "<Figure size 432x288 with 2 Axes>"
      ]
     },
     "metadata": {
      "needs_background": "light"
     },
     "output_type": "display_data"
    }
   ],
   "source": [
    "class_names=[\"high_risk\",\"low_risk\"] # name  of classes\n",
    "fig, ax = plt.subplots()\n",
    "tick_marks = np.arange(len(class_names))\n",
    "plt.xticks(tick_marks, class_names)\n",
    "plt.yticks(tick_marks, class_names)\n",
    "# create heatmap\n",
    "sns.heatmap(pd.DataFrame(confusion_matrix_l), annot=True, cmap=\"autumn\" ,fmt='g')\n",
    "ax.xaxis.set_label_position(\"top\")\n",
    "plt.tight_layout()\n",
    "plt.title('Confusion matrix', y=1.1)\n",
    "plt.ylabel('Actual label')\n",
    "plt.xlabel('Predicted label')"
   ]
  },
  {
   "cell_type": "code",
   "execution_count": 23,
   "id": "0d705a80",
   "metadata": {},
   "outputs": [],
   "source": [
    "from sklearn.metrics import auc\n"
   ]
  },
  {
   "cell_type": "code",
   "execution_count": 24,
   "id": "a31d0276",
   "metadata": {
    "scrolled": true
   },
   "outputs": [
    {
     "data": {
      "image/png": "[encoded data removed]",
      "text/plain": [
       "<Figure size 432x288 with 1 Axes>"
      ]
     },
     "metadata": {
      "needs_background": "light"
     },
     "output_type": "display_data"
    }
   ],
   "source": [
    "#ROC Curve - plot of the true positive rate against the false positive rate\n",
    "y_pred_proba = reg.predict_proba(X1_dummies)[::,1]\n",
    "fpr, tpr, _ = metrics.roc_curve(y1_label,  y_pred_proba)\n",
    "auc = metrics.roc_auc_score(y1_label, y_pred_proba)\n",
    "plt.xlim([0.0, 1.0])\n",
    "plt.ylim([0.0, 1.05])\n",
    "plt.plot(fpr,tpr, color = 'darkorange',\n",
    "         label = f'ROC curve (area = {auc:0.2f}')\n",
    "plt.xlabel('False Positive Rate')\n",
    "plt.ylabel('True Positive Rate')\n",
    "plt.legend(loc=\"lower right\")\n",
    "plt.show()"
   ]
  },
  {
   "cell_type": "code",
   "execution_count": null,
   "id": "ddee1e13",
   "metadata": {},
   "outputs": [],
   "source": []
  },
  {
   "cell_type": "markdown",
   "id": "d90f72c1",
   "metadata": {},
   "source": [
    "### Improving Logistic Regression Model \n",
    "\n",
    "Model is improved by setting different parameters, in this case inverse of regularization strenght C is set up to 100.0 instead of the default value of 1.0. We will have a different model with different confusion matrix, classification report. \n",
    "The larger value of C means weaker regularization, or weaker penalization.\n",
    "The weight coefficients shrink if we decrease the parameter C (increase the regularization strength, λ) We expect to get changed possible outputs and classification performace."
   ]
  },
  {
   "cell_type": "code",
   "execution_count": 25,
   "id": "f505d75d",
   "metadata": {
    "scrolled": true
   },
   "outputs": [
    {
     "name": "stdout",
     "output_type": "stream",
     "text": [
      "Training Data Score: 0.7061576354679803\n",
      "Testing Data Score: 0.5633772862611655\n",
      "Model:Logistic Regression\n",
      "score:0.5633772862611655\n",
      "\n"
     ]
    }
   ],
   "source": [
    "reg_imp = LogisticRegression(max_iter=10000, C=100.0, random_state = 42).fit(X_dummies, y_label)\n",
    "\n",
    "#reg-imp.score(X1_dummies,y1_label)\n",
    "print(f\"Training Data Score: {reg_imp.score(X_dummies, y_label)}\")\n",
    "print(f\"Testing Data Score: {reg_imp.score(X1_dummies, y1_label)}\")\n",
    "\n",
    "print('Model:Logistic Regression')\n",
    "print(f'score:{reg_imp.score(X1_dummies, y1_label)}\\n')\n"
   ]
  },
  {
   "cell_type": "code",
   "execution_count": 26,
   "id": "2eff469c",
   "metadata": {
    "scrolled": true
   },
   "outputs": [
    {
     "name": "stdout",
     "output_type": "stream",
     "text": [
      "[[ 836 1515]\n",
      " [ 538 1813]]\n",
      "              precision    recall  f1-score   support\n",
      "\n",
      "   high_risk       0.61      0.36      0.45      2351\n",
      "    low_risk       0.54      0.77      0.64      2351\n",
      "\n",
      "    accuracy                           0.56      4702\n",
      "   macro avg       0.58      0.56      0.54      4702\n",
      "weighted avg       0.58      0.56      0.54      4702\n",
      "\n"
     ]
    }
   ],
   "source": [
    "\n",
    "y1_true = y1_label\n",
    "y1_pred = reg_imp.predict(X1_dummies)\n",
    "#print(y_pred)\n",
    "confusion_matrix_l_imp = confusion_matrix(y1_true, y1_pred)\n",
    "confusion_matrix_l_imp\n",
    "print(confusion_matrix(y1_true, y1_pred))\n",
    "print(classification_report(y1_true, y1_pred, target_names=target_names))\n",
    "      "
   ]
  },
  {
   "cell_type": "code",
   "execution_count": 27,
   "id": "257fee49",
   "metadata": {
    "scrolled": true
   },
   "outputs": [
    {
     "name": "stdout",
     "output_type": "stream",
     "text": [
      "Accuracy: 0.5633772862611655\n",
      "Precision: 0.5447716346153846\n",
      "Sensitivity: 0.7711612079965972\n"
     ]
    }
   ],
   "source": [
    "print(\"Accuracy:\",metrics.accuracy_score(y1_true, y1_pred))\n",
    "print(\"Precision:\",metrics.precision_score(y1_true, y1_pred))\n",
    "print(\"Sensitivity:\",metrics.recall_score(y1_true, y1_pred))"
   ]
  },
  {
   "cell_type": "code",
   "execution_count": 28,
   "id": "0966435f",
   "metadata": {
    "scrolled": true
   },
   "outputs": [
    {
     "data": {
      "image/png": "[encoded data removed]",
      "text/plain": [
       "<Figure size 432x288 with 1 Axes>"
      ]
     },
     "metadata": {
      "needs_background": "light"
     },
     "output_type": "display_data"
    }
   ],
   "source": [
    "y_imp_pred_proba = reg_imp.predict_proba(X1_dummies)[::,1]\n",
    "fpr, tpr, _ = metrics.roc_curve(y1_label,  y_imp_pred_proba)\n",
    "auc = metrics.roc_auc_score(y1_label, y_imp_pred_proba)\n",
    "plt.xlim([0.0, 1.0])\n",
    "plt.ylim([0.0, 1.05])\n",
    "plt.plot(fpr,tpr, color = 'darkorange',\n",
    "         label = f'ROC curve (area = {auc:0.2f}')\n",
    "plt.xlabel('False Positive Rate')\n",
    "plt.ylabel('True Positive Rate')\n",
    "plt.legend(loc=\"lower right\")\n",
    "plt.show()"
   ]
  },
  {
   "cell_type": "markdown",
   "id": "0695ed5a",
   "metadata": {},
   "source": [
    "In both cases the Logistic Regression Model with unscaled data didn't fit well to make further predictions related to new unseen data. For the first model the score was 0.5642, and the AUC was 0.44. When we try to improve C value, score was 0.5633 and AUC value 0.43.  \n",
    "The value of AUC (area under the curve) below 0.5 means that the model is no more predicitive than random chance. "
   ]
  },
  {
   "cell_type": "markdown",
   "id": "f129602d",
   "metadata": {},
   "source": [
    "### RandomForestRegression Model"
   ]
  },
  {
   "cell_type": "markdown",
   "id": "ca146a05",
   "metadata": {},
   "source": [
    "RandomForestRegression Model is considered as a highly accurate method, but is slower in generating predictions. Multiple decision trees are used to determine the final output  - the average of all the tree outputs is considered as the final result, which gives more accurate and stable prediction.\n",
    "we predict that it will fit better to our dataset with multiple features. "
   ]
  },
  {
   "cell_type": "code",
   "execution_count": 29,
   "id": "fa3f2e6f",
   "metadata": {
    "scrolled": true
   },
   "outputs": [
    {
     "data": {
      "text/plain": [
       "array([[1961,  390],\n",
       "       [1270, 1081]], dtype=int64)"
      ]
     },
     "execution_count": 29,
     "metadata": {},
     "output_type": "execute_result"
    }
   ],
   "source": [
    "ran = RandomForestClassifier(random_state=1, n_estimators=500, max_depth=None).fit(X_dummies, y_label)\n",
    "y_r_pred = ran.predict(X1_dummies)\n",
    "y_true = y1_label\n",
    "cm_r = confusion_matrix(y_true, y_r_pred)\n",
    "cm_r\n"
   ]
  },
  {
   "cell_type": "code",
   "execution_count": 30,
   "id": "8e1ced36",
   "metadata": {},
   "outputs": [
    {
     "name": "stdout",
     "output_type": "stream",
     "text": [
      "              precision    recall  f1-score   support\n",
      "\n",
      "   high_risk       0.61      0.83      0.70      2351\n",
      "    low_risk       0.73      0.46      0.57      2351\n",
      "\n",
      "    accuracy                           0.65      4702\n",
      "   macro avg       0.67      0.65      0.63      4702\n",
      "weighted avg       0.67      0.65      0.63      4702\n",
      "\n",
      "Training Score: 1.0\n",
      "Testing Score: 0.646958740961293\n"
     ]
    }
   ],
   "source": [
    "print(classification_report(y1_label, y_r_pred, target_names=target_names))\n",
    "print(f'Training Score: {ran.score(X_dummies, y_label)}')\n",
    "print(f'Testing Score: {ran.score(X1_dummies, y1_label)}')"
   ]
  },
  {
   "cell_type": "code",
   "execution_count": 31,
   "id": "da86213a",
   "metadata": {},
   "outputs": [
    {
     "name": "stdout",
     "output_type": "stream",
     "text": [
      "Accuracy: 0.646958740961293\n",
      "Precision: 0.7348742352141401\n",
      "Sensitivity: 0.45980433857932795\n"
     ]
    }
   ],
   "source": [
    "from sklearn import metrics\n",
    "\n",
    "print(\"Accuracy:\",metrics.accuracy_score(y_true, y_r_pred))\n",
    "print(\"Precision:\",metrics.precision_score(y_true, y_r_pred))\n",
    "print(\"Sensitivity:\",metrics.recall_score(y_true, y_r_pred))"
   ]
  },
  {
   "cell_type": "code",
   "execution_count": 32,
   "id": "fbd844ec",
   "metadata": {
    "scrolled": false
   },
   "outputs": [
    {
     "name": "stdout",
     "output_type": "stream",
     "text": [
      "[1.64175246e-02 3.36047005e-02 3.07032294e-02 1.42239163e-02\n",
      " 1.54887781e-02 2.97922850e-03 4.27051795e-03 8.55840612e-03\n",
      " 1.33532005e-03 1.51577257e-02 1.16142472e-02 2.95307776e-02\n",
      " 2.99764667e-02 4.53332754e-02 4.48443196e-02 5.25173382e-02\n",
      " 4.98329797e-02 1.62671260e-02 0.00000000e+00 0.00000000e+00\n",
      " 9.97444637e-02 6.56760511e-04 0.00000000e+00 0.00000000e+00\n",
      " 4.27868968e-03 1.34563223e-02 4.63160385e-03 6.58760719e-03\n",
      " 4.03294385e-03 6.17692505e-03 1.18528253e-02 1.31099214e-02\n",
      " 1.40812113e-02 5.12304140e-03 7.78349300e-03 1.53878110e-02\n",
      " 1.33159958e-02 1.54529099e-02 5.98482161e-03 6.83047428e-03\n",
      " 7.85674268e-03 9.78167759e-03 1.39355711e-02 1.55873811e-02\n",
      " 1.40840046e-02 2.93482835e-04 0.00000000e+00 1.54613564e-02\n",
      " 1.62359542e-02 1.18244670e-02 1.00680524e-02 5.67200574e-03\n",
      " 1.29851695e-02 1.18672718e-02 3.62464457e-03 7.08920963e-03\n",
      " 7.86624182e-03 7.36513040e-03 8.69878830e-03 1.01283162e-02\n",
      " 8.34738211e-03 9.97869361e-03 7.97169822e-03 8.66230546e-03\n",
      " 0.00000000e+00 0.00000000e+00 1.00781070e-03 6.84643078e-03\n",
      " 9.25322619e-03 7.66253578e-03 1.45510549e-03 0.00000000e+00\n",
      " 1.44468755e-02 1.36302861e-02 1.50933062e-02 1.35098313e-02\n",
      " 1.80288820e-04 1.74281622e-03 1.64178137e-03 1.72083212e-03\n",
      " 2.02890909e-03 1.91467927e-03 1.59709624e-03 0.00000000e+00\n",
      " 1.07864320e-03 1.08026699e-03 1.42818911e-03 1.40438753e-03\n",
      " 2.22878863e-03 2.43714863e-03 3.88939360e-05 4.26246803e-05]\n"
     ]
    },
    {
     "data": {
      "image/png": "[encoded data removed]",
      "text/plain": [
       "<Figure size 432x288 with 1 Axes>"
      ]
     },
     "metadata": {
      "needs_background": "light"
     },
     "output_type": "display_data"
    }
   ],
   "source": [
    "# Feature Selection Methods - trying to find  the most appropriate features\n",
    "\n",
    "%matplotlib inline\n",
    "from matplotlib import pyplot as plt\n",
    "\n",
    "features = ran.feature_importances_\n",
    "print(features)\n",
    "plt.bar(x = range(len(features)), height=features)\n",
    "plt.show()"
   ]
  },
  {
   "cell_type": "code",
   "execution_count": null,
   "id": "6d16f0b3",
   "metadata": {},
   "outputs": [],
   "source": []
  },
  {
   "cell_type": "markdown",
   "id": "1c80e4c5",
   "metadata": {},
   "source": [
    "### Data scaling"
   ]
  },
  {
   "cell_type": "markdown",
   "id": "8acc91d2",
   "metadata": {},
   "source": [
    "### LogisticRegression Model  (Scaled)"
   ]
  },
  {
   "cell_type": "code",
   "execution_count": null,
   "id": "059ccef6",
   "metadata": {},
   "outputs": [],
   "source": []
  },
  {
   "cell_type": "code",
   "execution_count": 33,
   "id": "064094b2",
   "metadata": {},
   "outputs": [],
   "source": [
    "scaler = StandardScaler().fit(X_dummies)\n",
    "\n",
    "X_dummies_scaled = scaler.transform(X_dummies)\n",
    "X1_dummies_scaled = scaler.transform(X1_dummies) "
   ]
  },
  {
   "cell_type": "code",
   "execution_count": 34,
   "id": "e27cad45",
   "metadata": {
    "scrolled": false
   },
   "outputs": [
    {
     "data": {
      "text/plain": [
       "array([[1762,  589],\n",
       "       [ 540, 1811]], dtype=int64)"
      ]
     },
     "execution_count": 34,
     "metadata": {},
     "output_type": "execute_result"
    }
   ],
   "source": [
    "reg_scaled = LogisticRegression(max_iter=10000).fit(X_dummies_scaled, y_label)\n",
    "#reg_scaled.score(X1_dummies_scaled,y1_label)\n",
    "\n",
    "y_scaled_pred = reg_scaled.predict(X1_dummies_scaled)\n",
    "cm = confusion_matrix(y_true, y_scaled_pred)\n",
    "cm"
   ]
  },
  {
   "cell_type": "code",
   "execution_count": 35,
   "id": "e8da6507",
   "metadata": {},
   "outputs": [
    {
     "name": "stdout",
     "output_type": "stream",
     "text": [
      "              precision    recall  f1-score   support\n",
      "\n",
      "   high_risk       0.77      0.75      0.76      2351\n",
      "    low_risk       0.75      0.77      0.76      2351\n",
      "\n",
      "    accuracy                           0.76      4702\n",
      "   macro avg       0.76      0.76      0.76      4702\n",
      "weighted avg       0.76      0.76      0.76      4702\n",
      "\n",
      "Training Score: 0.710919540229885\n",
      "Testing Score: 0.7598894087622289\n",
      "LogisticRegression Score:0.7598894087622289\n",
      "\n"
     ]
    }
   ],
   "source": [
    "print(classification_report(y1_label, y_scaled_pred, target_names=target_names))\n",
    "print(f'Training Score: {reg_scaled.score(X_dummies_scaled, y_label)}')\n",
    "print(f'Testing Score: {reg_scaled.score(X1_dummies_scaled, y1_label)}')\n",
    "print(f'LogisticRegression Score:{reg_scaled.score(X1_dummies_scaled,y1_label)}\\n')"
   ]
  },
  {
   "cell_type": "code",
   "execution_count": 36,
   "id": "a2d9f4df",
   "metadata": {
    "scrolled": true
   },
   "outputs": [
    {
     "name": "stdout",
     "output_type": "stream",
     "text": [
      "Accuracy: 0.7598894087622289\n",
      "Precision: 0.7545833333333334\n",
      "Sensitivity: 0.7703105061675882\n"
     ]
    }
   ],
   "source": [
    "print(\"Accuracy:\",metrics.accuracy_score(y_true, y_scaled_pred))\n",
    "print(\"Precision:\",metrics.precision_score(y_true, y_scaled_pred))\n",
    "print(\"Sensitivity:\",metrics.recall_score(y_true, y_scaled_pred))"
   ]
  },
  {
   "cell_type": "code",
   "execution_count": 37,
   "id": "3308ca29",
   "metadata": {},
   "outputs": [
    {
     "data": {
      "text/plain": [
       "Text(0.5, 257.44, 'Predicted label')"
      ]
     },
     "execution_count": 37,
     "metadata": {},
     "output_type": "execute_result"
    },
    {
     "data": {
      "image/png": "[encoded data removed]",
      "text/plain": [
       "<Figure size 432x288 with 2 Axes>"
      ]
     },
     "metadata": {
      "needs_background": "light"
     },
     "output_type": "display_data"
    }
   ],
   "source": [
    "class_names=[\"high_risk\",\"low_risk\"] # name  of classes\n",
    "fig, ax = plt.subplots()\n",
    "tick_marks = np.arange(len(class_names))\n",
    "plt.xticks(tick_marks, class_names)\n",
    "plt.yticks(tick_marks, class_names)\n",
    "# create heatmap\n",
    "sns.heatmap(pd.DataFrame(cm), annot=True, cmap=\"winter\" ,fmt='g')\n",
    "ax.xaxis.set_label_position(\"top\")\n",
    "plt.tight_layout()\n",
    "plt.title('Confusion matrix', y=1.1)\n",
    "plt.ylabel('Actual label')\n",
    "plt.xlabel('Predicted label')"
   ]
  },
  {
   "cell_type": "code",
   "execution_count": 38,
   "id": "d07f284c",
   "metadata": {
    "scrolled": true
   },
   "outputs": [
    {
     "data": {
      "image/png": "[encoded data removed]",
      "text/plain": [
       "<Figure size 432x288 with 1 Axes>"
      ]
     },
     "metadata": {
      "needs_background": "light"
     },
     "output_type": "display_data"
    }
   ],
   "source": [
    "#ROC Curve - plot of the true positive rate against the false positive rate\n",
    "y_pred_proba = reg_scaled.predict_proba(X1_dummies_scaled)[::,1]\n",
    "fpr, tpr, _ = metrics.roc_curve(y1_label,  y_pred_proba)\n",
    "auc = metrics.roc_auc_score(y1_label, y_pred_proba)\n",
    "plt.plot(fpr,tpr, color = 'darkorange',\n",
    "         label = f'ROC curve (area = {auc:0.2f}')\n",
    "plt.xlabel('False Positive Rate')\n",
    "plt.ylabel('True Positive Rate')\n",
    "plt.legend(loc=\"lower right\")\n",
    "plt.show()"
   ]
  },
  {
   "cell_type": "markdown",
   "id": "15ff64fd",
   "metadata": {},
   "source": [
    "ROC curve shows trade-off between sensitivity and specificity.\n",
    "In this case  AUC score is 0.84 for the scaled data (For the unscaled data AUC score was 0.44) In this scenario the Logistic Regression Model works better with data processed with StandardScaler, as the value of AUC is closer to score 1.0 (which represents the perfect classifier). It will work better with the unseen data to predict the future values.\n"
   ]
  },
  {
   "cell_type": "code",
   "execution_count": null,
   "id": "7ac45d67",
   "metadata": {},
   "outputs": [],
   "source": [
    "\n"
   ]
  },
  {
   "cell_type": "markdown",
   "id": "f3f50ed6",
   "metadata": {},
   "source": [
    "### RandomForestRegression Model - Scaled"
   ]
  },
  {
   "cell_type": "code",
   "execution_count": 39,
   "id": "932d796a",
   "metadata": {},
   "outputs": [
    {
     "data": {
      "text/plain": [
       "array([[1954,  397],\n",
       "       [1268, 1083]], dtype=int64)"
      ]
     },
     "execution_count": 39,
     "metadata": {},
     "output_type": "execute_result"
    }
   ],
   "source": [
    "ran_scaled = RandomForestClassifier(random_state=0, n_estimators=500).fit(X_dummies_scaled, y_label)\n",
    "y_ran_scaled_pred = ran_scaled.predict(X1_dummies_scaled)\n",
    "\n",
    "y_rs_true = y1_label\n",
    "cm_rs = confusion_matrix(y_rs_true, y_ran_scaled_pred)\n",
    "cm_rs"
   ]
  },
  {
   "cell_type": "code",
   "execution_count": 40,
   "id": "d8d384fa",
   "metadata": {
    "scrolled": true
   },
   "outputs": [
    {
     "name": "stdout",
     "output_type": "stream",
     "text": [
      "              precision    recall  f1-score   support\n",
      "\n",
      "   high_risk       0.61      0.83      0.70      2351\n",
      "    low_risk       0.73      0.46      0.57      2351\n",
      "\n",
      "    accuracy                           0.65      4702\n",
      "   macro avg       0.67      0.65      0.63      4702\n",
      "weighted avg       0.67      0.65      0.63      4702\n",
      "\n",
      "Training Score: 1.0\n",
      "Testing Score: 0.6458953636750319\n",
      "RandomForestRegression Score:0.6458953636750319\n"
     ]
    }
   ],
   "source": [
    "print(classification_report(y_rs_true, y_ran_scaled_pred, target_names=target_names))\n",
    "print(f'Training Score: {ran_scaled.score(X_dummies_scaled, y_label)}')\n",
    "print(f'Testing Score: {ran_scaled.score(X1_dummies_scaled, y_rs_true)}')\n",
    "print(f'RandomForestRegression Score:{ran_scaled.score(X1_dummies_scaled,y_rs_true)}')\n"
   ]
  },
  {
   "cell_type": "code",
   "execution_count": 41,
   "id": "712d48d6",
   "metadata": {
    "scrolled": false
   },
   "outputs": [
    {
     "name": "stdout",
     "output_type": "stream",
     "text": [
      "Accuracy: 0.6458953636750319\n",
      "Precision: 0.7317567567567568\n",
      "Sensitivity: 0.4606550404083369\n"
     ]
    }
   ],
   "source": [
    "print(\"Accuracy:\",metrics.accuracy_score(y_rs_true, y_ran_scaled_pred))\n",
    "print(\"Precision:\",metrics.precision_score(y_rs_true, y_ran_scaled_pred))\n",
    "print(\"Sensitivity:\",metrics.recall_score(y_rs_true, y_ran_scaled_pred))"
   ]
  },
  {
   "cell_type": "code",
   "execution_count": 42,
   "id": "12cbb942",
   "metadata": {},
   "outputs": [
    {
     "data": {
      "text/plain": [
       "Text(0.5, 257.44, 'Predicted label')"
      ]
     },
     "execution_count": 42,
     "metadata": {},
     "output_type": "execute_result"
    },
    {
     "data": {
      "image/png": "[encoded data removed]",
      "text/plain": [
       "<Figure size 432x288 with 2 Axes>"
      ]
     },
     "metadata": {
      "needs_background": "light"
     },
     "output_type": "display_data"
    }
   ],
   "source": [
    "class_names=[\"high_risk\",\"low_risk\"] # name  of classes\n",
    "fig, ax = plt.subplots()\n",
    "tick_marks = np.arange(len(class_names))\n",
    "plt.xticks(tick_marks, class_names)\n",
    "plt.yticks(tick_marks, class_names)\n",
    "# create heatmap\n",
    "sns.heatmap(pd.DataFrame(cm_rs), annot=True, cmap=\"GnBu\" ,fmt='g')\n",
    "ax.xaxis.set_label_position(\"top\")\n",
    "plt.tight_layout()\n",
    "plt.title('Confusion matrix', y=1.1)\n",
    "plt.ylabel('Actual label')\n",
    "plt.xlabel('Predicted label')"
   ]
  },
  {
   "cell_type": "code",
   "execution_count": 43,
   "id": "75b700e5",
   "metadata": {},
   "outputs": [
    {
     "data": {
      "image/png": "[encoded data removed]",
      "text/plain": [
       "<Figure size 432x288 with 1 Axes>"
      ]
     },
     "metadata": {
      "needs_background": "light"
     },
     "output_type": "display_data"
    }
   ],
   "source": [
    "#ROC Curve - plot of the true positive rate against the false positive rate\n",
    "y_ran_scaled_pred_proba = ran_scaled.predict_proba(X1_dummies_scaled)[::,1]\n",
    "fpr, tpr, _ = metrics.roc_curve(y_rs_true,  y_ran_scaled_pred_proba)\n",
    "auc = metrics.roc_auc_score(y_rs_true, y_ran_scaled_pred_proba)\n",
    "plt.plot(fpr,tpr, color = 'darkorange',\n",
    "         label = f'ROC curve (area = {auc:0.2f}')\n",
    "plt.xlabel('False Positive Rate')\n",
    "plt.ylabel('True Positive Rate')\n",
    "plt.legend(loc=\"lower right\")\n",
    "plt.show()"
   ]
  },
  {
   "cell_type": "markdown",
   "id": "e3cf90f4",
   "metadata": {},
   "source": [
    "StandardScaler for data scaling  for the Random Forest Regression Model doesn't bring any improvement for prediction. AUC has value 0.70. Testing score is the same for both situation - unscaled or scaled data, it has value 0.64. \n",
    "If the feature - selection will be performed, then we will get different feature from unscaled vs. scaled data.\n"
   ]
  },
  {
   "cell_type": "markdown",
   "id": "ba4f2c6d",
   "metadata": {},
   "source": [
    "### RandomForest-Feature-Selection ang LogisticRegression Model with Selected Features"
   ]
  },
  {
   "cell_type": "code",
   "execution_count": 44,
   "id": "ec790956",
   "metadata": {},
   "outputs": [
    {
     "data": {
      "image/png": "[encoded data removed]",
      "text/plain": [
       "<Figure size 720x3600 with 1 Axes>"
      ]
     },
     "metadata": {
      "needs_background": "light"
     },
     "output_type": "display_data"
    }
   ],
   "source": [
    "feature_importances = ran_scaled.feature_importances_\n",
    "features1 = sorted(zip(X_dummies.columns, feature_importances), key = lambda x: x[1])\n",
    "cols = [f[0] for f in features1]\n",
    "width = [f[1] for f in features1]\n",
    "\n",
    "fig, ax = plt.subplots()\n",
    "\n",
    "fig.set_size_inches(10,50)\n",
    "plt.margins(y=0.001)\n",
    "\n",
    "ax.barh(y=cols, width=width)\n",
    "\n",
    "plt.show()"
   ]
  },
  {
   "cell_type": "markdown",
   "id": "79fe5530",
   "metadata": {},
   "source": [
    "\n"
   ]
  },
  {
   "cell_type": "code",
   "execution_count": 45,
   "id": "ade83cd3",
   "metadata": {},
   "outputs": [
    {
     "data": {
      "text/plain": [
       "array([ True,  True,  True,  True,  True, False, False, False, False,\n",
       "        True,  True,  True,  True,  True,  True,  True,  True,  True,\n",
       "       False, False,  True, False, False, False, False,  True, False,\n",
       "       False, False, False,  True,  True,  True, False, False,  True,\n",
       "        True,  True, False, False, False, False,  True,  True,  True,\n",
       "       False, False,  True,  True,  True, False, False,  True,  True,\n",
       "       False, False, False, False, False, False, False, False, False,\n",
       "       False, False, False, False, False, False, False, False, False,\n",
       "        True,  True,  True,  True, False, False, False, False, False,\n",
       "       False, False, False, False, False, False, False, False, False,\n",
       "       False, False])"
      ]
     },
     "execution_count": 45,
     "metadata": {},
     "output_type": "execute_result"
    }
   ],
   "source": [
    "from sklearn.feature_selection import SelectFromModel\n",
    "sel = SelectFromModel(ran_scaled)\n",
    "sel.fit(X_dummies_scaled, y_label)\n",
    "sel.get_support()"
   ]
  },
  {
   "cell_type": "code",
   "execution_count": 46,
   "id": "f554ef7b",
   "metadata": {},
   "outputs": [],
   "source": [
    "X_selected_dummies_scaled = sel.transform(X_dummies_scaled)\n",
    "X1_selected_dummies_scaled = sel.transform(X1_dummies_scaled)\n"
   ]
  },
  {
   "cell_type": "markdown",
   "id": "1162d7f2",
   "metadata": {},
   "source": [
    "* LogisticRegression Model with Selected Features"
   ]
  },
  {
   "cell_type": "code",
   "execution_count": 47,
   "id": "2acdab0d",
   "metadata": {},
   "outputs": [],
   "source": [
    "clff = LogisticRegression(max_iter = 10000).fit(X_selected_dummies_scaled, y_label)"
   ]
  },
  {
   "cell_type": "code",
   "execution_count": 48,
   "id": "9bae384f",
   "metadata": {},
   "outputs": [
    {
     "data": {
      "text/plain": [
       "array([[1774,  577],\n",
       "       [ 497, 1854]], dtype=int64)"
      ]
     },
     "execution_count": 48,
     "metadata": {},
     "output_type": "execute_result"
    }
   ],
   "source": [
    "y_clff_pred =clff.predict(X1_selected_dummies_scaled)\n",
    "y_lrf_true = y1_label\n",
    "confusion_matrix(y_lrf_true, y_clff_pred)\n"
   ]
  },
  {
   "cell_type": "code",
   "execution_count": 49,
   "id": "e09950cb",
   "metadata": {
    "scrolled": true
   },
   "outputs": [
    {
     "name": "stdout",
     "output_type": "stream",
     "text": [
      "              precision    recall  f1-score   support\n",
      "\n",
      "   high_risk       0.78      0.75      0.77      2351\n",
      "    low_risk       0.76      0.79      0.78      2351\n",
      "\n",
      "    accuracy                           0.77      4702\n",
      "   macro avg       0.77      0.77      0.77      4702\n",
      "weighted avg       0.77      0.77      0.77      4702\n",
      "\n",
      "Training Score: 0.7104269293924467\n",
      "Testing Score: 0.7715865589111016\n"
     ]
    }
   ],
   "source": [
    "print(classification_report(y_lrf_true, y_clff_pred, target_names=target_names))\n",
    "print(f'Training Score: {clff.score(X_selected_dummies_scaled, y_label)}')\n",
    "print(f'Testing Score: {clff.score(X1_selected_dummies_scaled, y_lrf_true)}')"
   ]
  },
  {
   "cell_type": "code",
   "execution_count": 50,
   "id": "5c28be64",
   "metadata": {
    "scrolled": true
   },
   "outputs": [
    {
     "name": "stdout",
     "output_type": "stream",
     "text": [
      "Accuracy: 0.7715865589111016\n",
      "Precision: 0.762649115590292\n",
      "Sensitivity: 0.7886005954912803\n"
     ]
    }
   ],
   "source": [
    "print(\"Accuracy:\",metrics.accuracy_score(y_lrf_true, y_clff_pred))\n",
    "print(\"Precision:\",metrics.precision_score(y_lrf_true, y_clff_pred))\n",
    "print(\"Sensitivity:\",metrics.recall_score(y_lrf_true, y_clff_pred))"
   ]
  },
  {
   "cell_type": "markdown",
   "id": "5350ba7d",
   "metadata": {},
   "source": [
    "Logistic Regression Model with selected features from Random Forest will work the best for our dataset. Model score improved to 0.77, with accuracy 0.77 and precision 0.76. It means 76% of the predictions will be correct (for high risk and low risk loans).\n",
    "This model will be able to catch 78% of all positive instances.\n"
   ]
  }
 ],
 "metadata": {
  "kernelspec": {
   "display_name": "Python [conda env:.conda-PythonAdv] *",
   "language": "python",
   "name": "conda-env-.conda-PythonAdv-py"
  },
  "language_info": {
   "codemirror_mode": {
    "name": "ipython",
    "version": 3
   },
   "file_extension": ".py",
   "mimetype": "text/x-python",
   "name": "python",
   "nbconvert_exporter": "python",
   "pygments_lexer": "ipython3",
   "version": "3.6.13"
  }
 },
 "nbformat": 4,
 "nbformat_minor": 5
}
